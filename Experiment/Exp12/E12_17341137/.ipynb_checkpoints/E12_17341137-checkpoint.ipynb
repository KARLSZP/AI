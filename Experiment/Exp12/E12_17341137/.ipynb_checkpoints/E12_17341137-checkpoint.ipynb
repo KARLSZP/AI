{
 "cells": [
  {
   "cell_type": "markdown",
   "metadata": {
    "colab_type": "text",
    "id": "tH7-EYiPvTxk"
   },
   "source": [
    "## E12 Naive Bayes"
   ]
  },
  {
   "cell_type": "markdown",
   "metadata": {
    "colab_type": "text",
    "id": "DXIv0BzTvTxm"
   },
   "source": [
    "\n",
    "This Report will explain the steps I've taken in this project, have fun in it~\n",
    "\n",
    "[1 Pre-processing](#1-Pre-processing)\n",
    "\n",
    "    |- 1.1 Load Training set, Test set.\n",
    "\n",
    "    |- 1.2 Fill NaN and NULL value\n",
    "\n",
    "    |- 1.3 Conditional probability from continuous data\n",
    "\n",
    "    |- 1.4 Conditional probability from discrete data\n",
    "\n",
    "[2 Classifier](#2-Classifier)\n",
    "\n",
    "    |- 2.1 Naive Bayes\n",
    "\n",
    "    |- 2.2 Behavior on training set\n",
    "\n",
    "    |- 2.3 Behavior on testing set\n",
    "    \n",
    "---\n"
   ]
  },
  {
   "cell_type": "code",
   "execution_count": null,
   "metadata": {},
   "outputs": [
    {
     "evalue": "Error: Activating Python 3.7.3 64-bit ('TOOLS': virtualenv) to run Jupyter failed with Error: spawn cmd EACCES.",
     "output_type": "error"
    }
   ],
   "source": [
    "from google.colab import drive\n",
    "drive.mount('/content/drive')"
   ]
  },
  {
   "cell_type": "code",
   "execution_count": null,
   "metadata": {},
   "outputs": [
    {
     "evalue": "Error: Activating Python 3.7.3 64-bit ('TOOLS': virtualenv) to run Jupyter failed with Error: spawn cmd EACCES.",
     "output_type": "error"
    }
   ],
   "source": [
    "import os\n",
    "import numpy as np\n",
    "import pandas as pd\n",
    "from tqdm import tqdm\n",
    "import matplotlib.pyplot as plt\n",
    "%matplotlib inline"
   ]
  },
  {
   "cell_type": "markdown",
   "metadata": {
    "colab_type": "text",
    "id": "66jAthSDvTxp"
   },
   "source": [
    "# 1 Pre-processing\n",
    "[TOP](#E11-Decision-Tree)"
   ]
  },
  {
   "cell_type": "markdown",
   "metadata": {
    "colab_type": "text",
    "id": "FTMn-RCCvTxq"
   },
   "source": [
    "## 1.1 Load Training set, Test set."
   ]
  },
  {
   "cell_type": "code",
   "execution_count": null,
   "metadata": {},
   "outputs": [
    {
     "evalue": "Error: Activating Python 3.7.3 64-bit ('TOOLS': virtualenv) to run Jupyter failed with Error: spawn cmd EACCES.",
     "output_type": "error"
    }
   ],
   "source": [
    "# Load Training set, Test set.\n",
    "# train_data_path = 'dataset/adult.data'\n",
    "# test_data_path = 'dataset/adult.test'\n",
    "\n",
    "train_data_path = '/content/drive/My Drive/Colab Notebooks/dataset/adult.data'\n",
    "test_data_path = '/content/drive/My Drive/Colab Notebooks/dataset/adult.test'\n",
    "\n",
    "header = ['age', 'workclass', 'fnlwgt', 'education', 'education-num',\n",
    "          'marital-status', 'occupation', 'relationship', 'race', 'sex',\n",
    "          'capital-gain', 'capital-loss', 'hours-per-week', 'native-country', 'Salaries']\n",
    "\n",
    "train_data = pd.read_csv(train_data_path, names=header)\n",
    "test_data = pd.read_csv(test_data_path, names=header)\n",
    "test_data.drop(0, inplace=True)\n",
    "test_data.reset_index(drop=True, inplace=True)"
   ]
  },
  {
   "cell_type": "code",
   "execution_count": 8,
   "metadata": {
    "colab": {
     "base_uri": "https://localhost:8080/",
     "height": 280
    },
    "colab_type": "code",
    "id": "n7wSrwU1vTxs",
    "outputId": "28f05286-6420-4b81-9740-5f4934b22612",
    "scrolled": true
   },
   "outputs": [
    {
     "data": {
      "text/html": [
       "<div>\n",
       "<style scoped>\n",
       "    .dataframe tbody tr th:only-of-type {\n",
       "        vertical-align: middle;\n",
       "    }\n",
       "\n",
       "    .dataframe tbody tr th {\n",
       "        vertical-align: top;\n",
       "    }\n",
       "\n",
       "    .dataframe thead th {\n",
       "        text-align: right;\n",
       "    }\n",
       "</style>\n",
       "<table border=\"1\" class=\"dataframe\">\n",
       "  <thead>\n",
       "    <tr style=\"text-align: right;\">\n",
       "      <th></th>\n",
       "      <th>age</th>\n",
       "      <th>workclass</th>\n",
       "      <th>fnlwgt</th>\n",
       "      <th>education</th>\n",
       "      <th>education-num</th>\n",
       "      <th>marital-status</th>\n",
       "      <th>occupation</th>\n",
       "      <th>relationship</th>\n",
       "      <th>race</th>\n",
       "      <th>sex</th>\n",
       "      <th>capital-gain</th>\n",
       "      <th>capital-loss</th>\n",
       "      <th>hours-per-week</th>\n",
       "      <th>native-country</th>\n",
       "      <th>Salaries</th>\n",
       "    </tr>\n",
       "  </thead>\n",
       "  <tbody>\n",
       "    <tr>\n",
       "      <th>0</th>\n",
       "      <td>39</td>\n",
       "      <td>State-gov</td>\n",
       "      <td>77516</td>\n",
       "      <td>Bachelors</td>\n",
       "      <td>13</td>\n",
       "      <td>Never-married</td>\n",
       "      <td>Adm-clerical</td>\n",
       "      <td>Not-in-family</td>\n",
       "      <td>White</td>\n",
       "      <td>Male</td>\n",
       "      <td>2174</td>\n",
       "      <td>0</td>\n",
       "      <td>40</td>\n",
       "      <td>United-States</td>\n",
       "      <td>&lt;=50K</td>\n",
       "    </tr>\n",
       "    <tr>\n",
       "      <th>1</th>\n",
       "      <td>50</td>\n",
       "      <td>Self-emp-not-inc</td>\n",
       "      <td>83311</td>\n",
       "      <td>Bachelors</td>\n",
       "      <td>13</td>\n",
       "      <td>Married-civ-spouse</td>\n",
       "      <td>Exec-managerial</td>\n",
       "      <td>Husband</td>\n",
       "      <td>White</td>\n",
       "      <td>Male</td>\n",
       "      <td>0</td>\n",
       "      <td>0</td>\n",
       "      <td>13</td>\n",
       "      <td>United-States</td>\n",
       "      <td>&lt;=50K</td>\n",
       "    </tr>\n",
       "  </tbody>\n",
       "</table>\n",
       "</div>"
      ],
      "text/plain": [
       "   age          workclass  fnlwgt  ... hours-per-week  native-country Salaries\n",
       "0   39          State-gov   77516  ...             40   United-States    <=50K\n",
       "1   50   Self-emp-not-inc   83311  ...             13   United-States    <=50K\n",
       "\n",
       "[2 rows x 15 columns]"
      ]
     },
     "metadata": {
      "tags": []
     },
     "output_type": "display_data"
    },
    {
     "data": {
      "text/html": [
       "<div>\n",
       "<style scoped>\n",
       "    .dataframe tbody tr th:only-of-type {\n",
       "        vertical-align: middle;\n",
       "    }\n",
       "\n",
       "    .dataframe tbody tr th {\n",
       "        vertical-align: top;\n",
       "    }\n",
       "\n",
       "    .dataframe thead th {\n",
       "        text-align: right;\n",
       "    }\n",
       "</style>\n",
       "<table border=\"1\" class=\"dataframe\">\n",
       "  <thead>\n",
       "    <tr style=\"text-align: right;\">\n",
       "      <th></th>\n",
       "      <th>age</th>\n",
       "      <th>workclass</th>\n",
       "      <th>fnlwgt</th>\n",
       "      <th>education</th>\n",
       "      <th>education-num</th>\n",
       "      <th>marital-status</th>\n",
       "      <th>occupation</th>\n",
       "      <th>relationship</th>\n",
       "      <th>race</th>\n",
       "      <th>sex</th>\n",
       "      <th>capital-gain</th>\n",
       "      <th>capital-loss</th>\n",
       "      <th>hours-per-week</th>\n",
       "      <th>native-country</th>\n",
       "      <th>Salaries</th>\n",
       "    </tr>\n",
       "  </thead>\n",
       "  <tbody>\n",
       "    <tr>\n",
       "      <th>0</th>\n",
       "      <td>25</td>\n",
       "      <td>Private</td>\n",
       "      <td>226802.0</td>\n",
       "      <td>11th</td>\n",
       "      <td>7.0</td>\n",
       "      <td>Never-married</td>\n",
       "      <td>Machine-op-inspct</td>\n",
       "      <td>Own-child</td>\n",
       "      <td>Black</td>\n",
       "      <td>Male</td>\n",
       "      <td>0.0</td>\n",
       "      <td>0.0</td>\n",
       "      <td>40.0</td>\n",
       "      <td>United-States</td>\n",
       "      <td>&lt;=50K.</td>\n",
       "    </tr>\n",
       "    <tr>\n",
       "      <th>1</th>\n",
       "      <td>38</td>\n",
       "      <td>Private</td>\n",
       "      <td>89814.0</td>\n",
       "      <td>HS-grad</td>\n",
       "      <td>9.0</td>\n",
       "      <td>Married-civ-spouse</td>\n",
       "      <td>Farming-fishing</td>\n",
       "      <td>Husband</td>\n",
       "      <td>White</td>\n",
       "      <td>Male</td>\n",
       "      <td>0.0</td>\n",
       "      <td>0.0</td>\n",
       "      <td>50.0</td>\n",
       "      <td>United-States</td>\n",
       "      <td>&lt;=50K.</td>\n",
       "    </tr>\n",
       "  </tbody>\n",
       "</table>\n",
       "</div>"
      ],
      "text/plain": [
       "  age workclass    fnlwgt  ... hours-per-week  native-country Salaries\n",
       "0  25   Private  226802.0  ...           40.0   United-States   <=50K.\n",
       "1  38   Private   89814.0  ...           50.0   United-States   <=50K.\n",
       "\n",
       "[2 rows x 15 columns]"
      ]
     },
     "metadata": {
      "tags": []
     },
     "output_type": "display_data"
    }
   ],
   "source": [
    "display(train_data.head(2))\n",
    "display(test_data.head(2))"
   ]
  },
  {
   "cell_type": "markdown",
   "metadata": {
    "colab_type": "text",
    "id": "G9-LckAovTxx"
   },
   "source": [
    "## 1.2 Fill NaN and NULL value\n",
    "\n",
    "This step is just the same as in E11, so I do no explaination here."
   ]
  },
  {
   "cell_type": "markdown",
   "metadata": {
    "colab_type": "text",
    "id": "ZwFv2NMkvTxy"
   },
   "source": [
    "**Fill train data.**"
   ]
  },
  {
   "cell_type": "code",
   "execution_count": 0,
   "metadata": {
    "colab": {},
    "colab_type": "code",
    "id": "eG_ar_KuvTxy"
   },
   "outputs": [],
   "source": [
    "train_data.replace(' ?', np.nan, inplace=True)\n",
    "train_data.fillna(train_data.mode().iloc[0], inplace=True)"
   ]
  },
  {
   "cell_type": "markdown",
   "metadata": {
    "colab_type": "text",
    "id": "YWzZUHJ-vTx0"
   },
   "source": [
    "**Fill test data.**"
   ]
  },
  {
   "cell_type": "code",
   "execution_count": 0,
   "metadata": {
    "colab": {},
    "colab_type": "code",
    "id": "79OT2GAGvTx1",
    "scrolled": true
   },
   "outputs": [],
   "source": [
    "test_data.replace(' ?', np.nan, inplace=True)\n",
    "test_data.fillna(test_data.mode().iloc[0], inplace=True)"
   ]
  },
  {
   "cell_type": "markdown",
   "metadata": {
    "colab_type": "text",
    "id": "E7fjuM-zvTx5"
   },
   "source": [
    "Done."
   ]
  },
  {
   "cell_type": "markdown",
   "metadata": {
    "colab_type": "text",
    "id": "iATJxkFOvTx5"
   },
   "source": [
    "## 1.3 Conditional probability from continuous data\n",
    "\n",
    "In Naive Bayes, I use Gaussian Distribution to exract the conditional probability from continuous data."
   ]
  },
  {
   "cell_type": "code",
   "execution_count": 13,
   "metadata": {
    "colab": {
     "base_uri": "https://localhost:8080/",
     "height": 196
    },
    "colab_type": "code",
    "id": "BrE_O34AvTx6",
    "outputId": "33d07b6e-d2d2-4eb0-e36e-7d494b18da10",
    "scrolled": false
   },
   "outputs": [
    {
     "data": {
      "text/html": [
       "<div>\n",
       "<style scoped>\n",
       "    .dataframe tbody tr th:only-of-type {\n",
       "        vertical-align: middle;\n",
       "    }\n",
       "\n",
       "    .dataframe tbody tr th {\n",
       "        vertical-align: top;\n",
       "    }\n",
       "\n",
       "    .dataframe thead th {\n",
       "        text-align: right;\n",
       "    }\n",
       "</style>\n",
       "<table border=\"1\" class=\"dataframe\">\n",
       "  <thead>\n",
       "    <tr style=\"text-align: right;\">\n",
       "      <th></th>\n",
       "      <th>age</th>\n",
       "      <th>fnlwgt</th>\n",
       "      <th>education-num</th>\n",
       "      <th>capital-gain</th>\n",
       "      <th>capital-loss</th>\n",
       "      <th>hours-per-week</th>\n",
       "    </tr>\n",
       "  </thead>\n",
       "  <tbody>\n",
       "    <tr>\n",
       "      <th>0</th>\n",
       "      <td>39</td>\n",
       "      <td>77516</td>\n",
       "      <td>13</td>\n",
       "      <td>2174</td>\n",
       "      <td>0</td>\n",
       "      <td>40</td>\n",
       "    </tr>\n",
       "    <tr>\n",
       "      <th>1</th>\n",
       "      <td>50</td>\n",
       "      <td>83311</td>\n",
       "      <td>13</td>\n",
       "      <td>0</td>\n",
       "      <td>0</td>\n",
       "      <td>13</td>\n",
       "    </tr>\n",
       "  </tbody>\n",
       "</table>\n",
       "</div>"
      ],
      "text/plain": [
       "   age  fnlwgt  education-num  capital-gain  capital-loss  hours-per-week\n",
       "0   39   77516             13          2174             0              40\n",
       "1   50   83311             13             0             0              13"
      ]
     },
     "metadata": {
      "tags": []
     },
     "output_type": "display_data"
    },
    {
     "data": {
      "text/html": [
       "<div>\n",
       "<style scoped>\n",
       "    .dataframe tbody tr th:only-of-type {\n",
       "        vertical-align: middle;\n",
       "    }\n",
       "\n",
       "    .dataframe tbody tr th {\n",
       "        vertical-align: top;\n",
       "    }\n",
       "\n",
       "    .dataframe thead th {\n",
       "        text-align: right;\n",
       "    }\n",
       "</style>\n",
       "<table border=\"1\" class=\"dataframe\">\n",
       "  <thead>\n",
       "    <tr style=\"text-align: right;\">\n",
       "      <th></th>\n",
       "      <th>age</th>\n",
       "      <th>fnlwgt</th>\n",
       "      <th>education-num</th>\n",
       "      <th>capital-gain</th>\n",
       "      <th>capital-loss</th>\n",
       "      <th>hours-per-week</th>\n",
       "    </tr>\n",
       "  </thead>\n",
       "  <tbody>\n",
       "    <tr>\n",
       "      <th>0</th>\n",
       "      <td>25</td>\n",
       "      <td>226802.0</td>\n",
       "      <td>7.0</td>\n",
       "      <td>0.0</td>\n",
       "      <td>0.0</td>\n",
       "      <td>40.0</td>\n",
       "    </tr>\n",
       "    <tr>\n",
       "      <th>1</th>\n",
       "      <td>38</td>\n",
       "      <td>89814.0</td>\n",
       "      <td>9.0</td>\n",
       "      <td>0.0</td>\n",
       "      <td>0.0</td>\n",
       "      <td>50.0</td>\n",
       "    </tr>\n",
       "  </tbody>\n",
       "</table>\n",
       "</div>"
      ],
      "text/plain": [
       "  age    fnlwgt  education-num  capital-gain  capital-loss  hours-per-week\n",
       "0  25  226802.0            7.0           0.0           0.0            40.0\n",
       "1  38   89814.0            9.0           0.0           0.0            50.0"
      ]
     },
     "metadata": {
      "tags": []
     },
     "output_type": "display_data"
    }
   ],
   "source": [
    "continuous_cols = ['age', 'fnlwgt', 'education-num', 'capital-gain', 'capital-loss', 'hours-per-week']\n",
    "display(train_data[continuous_cols].head(2))\n",
    "display(test_data[continuous_cols].head(2))"
   ]
  },
  {
   "cell_type": "markdown",
   "metadata": {
    "colab_type": "text",
    "id": "iksRKB_MvTx9"
   },
   "source": [
    "**Function: continuous_cond_prob(y, x, Data)**\n",
    "\n",
    "**parameters:**\n",
    "- y: Current class.\n",
    "- x: Target attribute name.\n",
    "- xi: Target attribute sample.\n",
    "- Data: Current data set.\n",
    "\n",
    "**return:**\n",
    "- conditional prob. $P(x=x_i|y=y_k)=\\dfrac{1}{\\sqrt{2 \\pi \\sigma_{k}^{2}}} e^{-\\frac{\\left(x_{i}-\\mu_{k}\\right)^{2}}{2 \\sigma_{k}^{2}}}$"
   ]
  },
  {
   "cell_type": "code",
   "execution_count": 14,
   "metadata": {
    "colab": {
     "base_uri": "https://localhost:8080/",
     "height": 50
    },
    "colab_type": "code",
    "id": "_mGr9WuCvTx9",
    "outputId": "f3b1e50d-9dca-40e7-c0e0-c8630680126b"
   },
   "outputs": [
    {
     "name": "stdout",
     "output_type": "stream",
     "text": [
      "7.584878484228889e-07\n",
      "0.019575603532745584\n"
     ]
    }
   ],
   "source": [
    "def continuous_cond_prob(y, x, xi, Data):\n",
    "    # Use pandas to locate the target attribute:\n",
    "    # .loc[boolean]: filter by boolean to get the slices.\n",
    "    x = Data.loc[Data['Salaries']==y][x]\n",
    "    # Ensure every element are of int64 type,\n",
    "    # for calculation below.\n",
    "    x = np.array(x, dtype=np.int64)\n",
    "    # Calculate mu, sigma\n",
    "    mu = np.average(x)\n",
    "    sigma = np.var(x)\n",
    "    # Calculate the Gassusian distribution.\n",
    "    return 1.0/np.sqrt(2*np.pi*sigma) * np.exp(-(int(xi)-mu)**2/(2*sigma))\n",
    "\n",
    "# sample\n",
    "print(continuous_cond_prob(' <=50K', 'fnlwgt', 25, train_data))\n",
    "print(continuous_cond_prob(' <=50K.', 'age', 25, test_data))"
   ]
  },
  {
   "cell_type": "markdown",
   "metadata": {
    "colab_type": "text",
    "id": "iwnfHsHOvTyA"
   },
   "source": [
    "## 1.4 Conditional probability from discrete data\n"
   ]
  },
  {
   "cell_type": "markdown",
   "metadata": {
    "colab_type": "text",
    "id": "kRSseZyRvTyB"
   },
   "source": [
    "**Function: discrete_cond_prob(y, x, Data)**\n",
    "\n",
    "**parameters:**\n",
    "- y: Current class.\n",
    "- x: Target attribute name.\n",
    "- Data: Current data set.\n",
    "\n",
    "**return:**\n",
    "- conditional prob. $P(x=x_i|y=y_k)$"
   ]
  },
  {
   "cell_type": "code",
   "execution_count": 15,
   "metadata": {
    "colab": {
     "base_uri": "https://localhost:8080/",
     "height": 54
    },
    "colab_type": "code",
    "id": "S2ayngZ2vTyB",
    "outputId": "025430d9-75f9-4492-9baa-8ee962400987"
   },
   "outputs": [
    {
     "name": "stdout",
     "output_type": "stream",
     "text": [
      "{' Assoc-voc': 0.011086883080986456, ' Some-college': 0.04259697183747428, ' Assoc-acdm': 0.00813857068271859, ' 9th': 0.0008292128620128375, ' 1st-4th': 0.00018426952489174165, ' HS-grad': 0.051441909032277876, ' Bachelors': 0.06821043579742637, ' Prof-school': 0.012991001504867787, ' 12th': 0.0010134823869045791, ' 10th': 0.0019041184238813304, ' Masters': 0.02945241239519671, ' Doctorate': 0.009397745769478825, ' 11th': 0.0018426952489174165, ' 7th-8th': 0.0012284634992782777, ' 5th-6th': 0.000491385399711311}\n"
     ]
    }
   ],
   "source": [
    "def discrete_cond_prob(y, x, Data):\n",
    "    # Use pandas to locate the target attribute:\n",
    "    # .loc[boolean]: filter by boolean to get the slices.\n",
    "    x = list(Data.loc[Data['Salaries']==y][x])\n",
    "    # Use set() to found how many distinguished values\n",
    "    # the target features have.\n",
    "    # And also count out.\n",
    "    x_set = list((set(x)))\n",
    "    x_count = [x.count(val)/len(Data) for val in x_set]\n",
    "    # A dictionary storing all discrete conditinal pr. \n",
    "    return dict(zip(x_set, x_count))\n",
    "\n",
    "# sample\n",
    "print(discrete_cond_prob(' >50K', 'education', train_data))"
   ]
  },
  {
   "cell_type": "markdown",
   "metadata": {
    "colab_type": "text",
    "id": "pJmSrbvZvTyE"
   },
   "source": [
    "---\n",
    "\n",
    "\n",
    "# 2 Classifier\n",
    "\n",
    "[TOP](#E12-Naive-Bayes)"
   ]
  },
  {
   "cell_type": "markdown",
   "metadata": {
    "colab_type": "text",
    "id": "gori0u1RpR5X"
   },
   "source": [
    "## 2.1 Naive Bayes"
   ]
  },
  {
   "cell_type": "markdown",
   "metadata": {
    "colab_type": "text",
    "id": "VWTDHnOCvTyF"
   },
   "source": [
    "In this dataset, for a given piece of data:\n",
    "\n",
    "$(age, workclass, ..., native-country),$\n",
    "\n",
    "we can only calculate:\n",
    "\n",
    "$P1 = P('>50K')P(age|'>50K')P(workclass|'>50K')...P(native-country|'>50K')$\n",
    "\n",
    "$P2 = P('<=50K')P(age|'<=50K')P(workclass|'<=50K')...P(native-country|'<=50K')$\n",
    "\n",
    "**The larger one is the prediction of Naive Bayes strategy.**"
   ]
  },
  {
   "cell_type": "markdown",
   "metadata": {
    "colab_type": "text",
    "id": "5bOVxZGGvTyG"
   },
   "source": [
    "**Function: NaiveBayes(Data， sample, labels)**\n",
    "\n",
    "**parameters:**\n",
    "- Data: 2-d matrix, Current data set.\n",
    "- sample: list/ndarray, Current predicting sample.\n",
    "- labels: list, The candidate labels for the sample.\n",
    "\n",
    "**return:**\n",
    "- Prediction of the label."
   ]
  },
  {
   "cell_type": "code",
   "execution_count": 0,
   "metadata": {
    "colab": {},
    "colab_type": "code",
    "id": "rouOzN1SvTyG"
   },
   "outputs": [],
   "source": [
    "def NaiveBayes(Data, sample, labels):\n",
    "    # Initialize Probabilities of each label\n",
    "    Prob = [len(Data.loc[Data['Salaries'] == label])/len(Data) for label in labels]\n",
    "    # Calculating Conditional probabilities and multiply to Prob..\n",
    "    for idx, col in enumerate(Data.columns[:-1]):\n",
    "        if col in continuous_cols:\n",
    "            for idx_p, P in enumerate(Prob):\n",
    "                Prob[idx_p] *= continuous_cond_prob(labels[idx_p], col, sample[idx], Data)\n",
    "        else:\n",
    "            for idx_p, P in enumerate(Prob):\n",
    "                Prob[idx_p] *= discrete_cond_prob(labels[idx_p], col, Data).get(sample[idx], 0)\n",
    "    max_prob = max(Prob)\n",
    "    return labels[Prob.index(max_prob)]"
   ]
  },
  {
   "cell_type": "markdown",
   "metadata": {
    "colab_type": "text",
    "id": "xBM9pMUMpMbV"
   },
   "source": [
    "## 2.2 Behavior on training set"
   ]
  },
  {
   "cell_type": "code",
   "execution_count": 12,
   "metadata": {
    "colab": {
     "base_uri": "https://localhost:8080/",
     "height": 50
    },
    "colab_type": "code",
    "id": "KMzJCDgfvTyI",
    "outputId": "18621f96-3228-43b7-9147-ec9642dc6be9"
   },
   "outputs": [
    {
     "name": "stderr",
     "output_type": "stream",
     "text": [
      "100%|██████████| 32561/32561 [1:45:25<00:00,  5.17it/s]"
     ]
    },
    {
     "name": "stdout",
     "output_type": "stream",
     "text": [
      "Accuracy on training set: 0.815945\n"
     ]
    },
    {
     "name": "stderr",
     "output_type": "stream",
     "text": [
      "\n"
     ]
    }
   ],
   "source": [
    "miss_rate = 0\n",
    "for i in tqdm(train_data.index):\n",
    "    label = train_data.iloc[i][-1]\n",
    "    predition = NaiveBayes(train_data, train_data.iloc[i][:-1], [' >50K', ' <=50K'])\n",
    "    if label != predition:\n",
    "        miss_rate += 1\n",
    "        \n",
    "print(\"Accuracy on training set: {:4f}\".format(1 - miss_rate/len(train_data)))"
   ]
  },
  {
   "cell_type": "markdown",
   "metadata": {
    "colab_type": "text",
    "id": "RNKlQ6cEvTyM"
   },
   "source": [
    "## 2.3 Behavior on testing set"
   ]
  },
  {
   "cell_type": "code",
   "execution_count": 33,
   "metadata": {
    "colab": {
     "base_uri": "https://localhost:8080/",
     "height": 50
    },
    "colab_type": "code",
    "id": "fq0y41davTyM",
    "outputId": "0c4dac58-837c-42a5-b687-1f8edfd20757"
   },
   "outputs": [
    {
     "name": "stderr",
     "output_type": "stream",
     "text": [
      "100%|██████████| 16281/16281 [32:36<00:00,  8.24it/s]"
     ]
    },
    {
     "name": "stdout",
     "output_type": "stream",
     "text": [
      "Accuracy on training set: 0.815613\n"
     ]
    },
    {
     "name": "stderr",
     "output_type": "stream",
     "text": [
      "\n"
     ]
    }
   ],
   "source": [
    "miss_rate = 0\n",
    "for i in tqdm(test_data.index):\n",
    "    label = test_data.iloc[i][-1]\n",
    "    predition = NaiveBayes(test_data, test_data.iloc[i][:-1], [' >50K.', ' <=50K.'])\n",
    "    if label != predition:\n",
    "        miss_rate += 1\n",
    "        \n",
    "print(\"Accuracy on training set: {:4f}\".format(1 - miss_rate/len(test_data)))"
   ]
  },
  {
   "cell_type": "markdown",
   "metadata": {
    "colab_type": "text",
    "id": "sIFu-zrxvTyX"
   },
   "source": [
    "Great, it works.\n",
    "\n",
    "As a conclusion,\n",
    "\n",
    "- Accuracy on training set: **81.59%**\n",
    "- Accuracy on testing set: **81.56%**\n",
    "\n",
    "[TOP](#E11-Decision-Tree)\n",
    "\n",
    "---\n",
    "\n",
    "2019/11 Karl"
   ]
  }
 ],
 "metadata": {
  "accelerator": "GPU",
  "colab": {
   "name": "E12_17341137.ipynb",
   "provenance": []
  },
  "kernelspec": {
   "display_name": "Python 3",
   "language": "python",
   "name": "python3"
  },
  "language_info": {
   "codemirror_mode": {
    "name": "ipython",
    "version": 3
   },
   "file_extension": ".py",
   "mimetype": "text/x-python",
   "name": "python",
   "nbconvert_exporter": "python",
   "pygments_lexer": "ipython3",
   "version": "3.7.3"
  }
 },
 "nbformat": 4,
 "nbformat_minor": 1
}
