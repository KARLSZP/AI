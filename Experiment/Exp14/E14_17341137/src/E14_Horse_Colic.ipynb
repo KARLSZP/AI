{
 "cells": [
  {
   "cell_type": "markdown",
   "metadata": {},
   "source": [
    "# E14 Horse Colic\n",
    "\n",
    "@ author: 17341137 Zhenpeng Song\n",
    "\n",
    "This Report will explain the steps I've taken in this project, have fun in it~\n",
    "\n",
    "[1 Pre-processing](#1-Pre-processing)\n",
    "\n",
    "    |- 1.1 Load Data\n",
    "\n",
    "    |- 1.2 Simple Cleaning\n",
    "\n",
    "[2 Feature Engineering](#2-Feature-Engineering)\n",
    "\n",
    "    |- 2.1 2.1 Missing Rate\n",
    "\n",
    "    |- 2.2 Seperate Continuous/Categorical/UnorderedCategorical(Nominal) Features\n",
    "\n",
    "    |- 2.3 Fix features\n",
    "\n",
    "    |- 2.4 Fix sugery, outcome\n",
    "\n",
    "    |- 2.5 One-hot Encoding on Nominal Features\n",
    "\n",
    "    |- 2.6 StandardScalar\n",
    "\n",
    "[3 Training Model](#3-Training-Model)\n",
    "\n",
    "    |- 3.1 Split Data and Review\n",
    "\n",
    "    |- 3.2 GridSearching\n",
    "\n",
    "    |- 3.3 Store the best params\n",
    "\n",
    "    |- 3.4 Retrieve and Observation\n",
    "\n",
    "[4 Conclusion](#4-Conclusion)"
   ]
  },
  {
   "cell_type": "code",
   "execution_count": 1,
   "metadata": {},
   "outputs": [],
   "source": [
    "import numpy as np\n",
    "import pandas as pd\n",
    "import seaborn as sns\n",
    "import matplotlib.pyplot as plt\n",
    "from nn import NN\n",
    "from utilities import load_data, placeholder, Scaler, Accuracy, GridSearch, plot_costs_epoch\n",
    "\n",
    "%matplotlib inline"
   ]
  },
  {
   "cell_type": "markdown",
   "metadata": {},
   "source": [
    "# 1 Pre-processing"
   ]
  },
  {
   "cell_type": "markdown",
   "metadata": {},
   "source": [
    "## 1.1 Load Data"
   ]
  },
  {
   "cell_type": "code",
   "execution_count": 2,
   "metadata": {
    "scrolled": true
   },
   "outputs": [
    {
     "data": {
      "text/html": [
       "<div>\n",
       "<style scoped>\n",
       "    .dataframe tbody tr th:only-of-type {\n",
       "        vertical-align: middle;\n",
       "    }\n",
       "\n",
       "    .dataframe tbody tr th {\n",
       "        vertical-align: top;\n",
       "    }\n",
       "\n",
       "    .dataframe thead th {\n",
       "        text-align: right;\n",
       "    }\n",
       "</style>\n",
       "<table border=\"1\" class=\"dataframe\">\n",
       "  <thead>\n",
       "    <tr style=\"text-align: right;\">\n",
       "      <th></th>\n",
       "      <th>surgery</th>\n",
       "      <th>Age</th>\n",
       "      <th>Hospital_Num</th>\n",
       "      <th>rectal_temp</th>\n",
       "      <th>pulse</th>\n",
       "      <th>respiratory_rate</th>\n",
       "      <th>extremities</th>\n",
       "      <th>peripheral_pulse</th>\n",
       "      <th>mucous_membranes</th>\n",
       "      <th>capillary_refill-time</th>\n",
       "      <th>...</th>\n",
       "      <th>total_protein</th>\n",
       "      <th>abdominocentesis_appearance</th>\n",
       "      <th>abdomcentesis_total_protein</th>\n",
       "      <th>outcome</th>\n",
       "      <th>surgical_lesion</th>\n",
       "      <th>lesion_1</th>\n",
       "      <th>lesion_2</th>\n",
       "      <th>lesion_3</th>\n",
       "      <th>cp_data</th>\n",
       "      <th>Unnamed: 28</th>\n",
       "    </tr>\n",
       "  </thead>\n",
       "  <tbody>\n",
       "    <tr>\n",
       "      <td>0</td>\n",
       "      <td>2</td>\n",
       "      <td>1</td>\n",
       "      <td>530101</td>\n",
       "      <td>38.50</td>\n",
       "      <td>66</td>\n",
       "      <td>28</td>\n",
       "      <td>3</td>\n",
       "      <td>3</td>\n",
       "      <td>?</td>\n",
       "      <td>2</td>\n",
       "      <td>...</td>\n",
       "      <td>8.40</td>\n",
       "      <td>?</td>\n",
       "      <td>?</td>\n",
       "      <td>2</td>\n",
       "      <td>2</td>\n",
       "      <td>11300</td>\n",
       "      <td>0</td>\n",
       "      <td>0</td>\n",
       "      <td>2</td>\n",
       "      <td>NaN</td>\n",
       "    </tr>\n",
       "    <tr>\n",
       "      <td>1</td>\n",
       "      <td>1</td>\n",
       "      <td>1</td>\n",
       "      <td>534817</td>\n",
       "      <td>39.2</td>\n",
       "      <td>88</td>\n",
       "      <td>20</td>\n",
       "      <td>?</td>\n",
       "      <td>?</td>\n",
       "      <td>4</td>\n",
       "      <td>1</td>\n",
       "      <td>...</td>\n",
       "      <td>85</td>\n",
       "      <td>2</td>\n",
       "      <td>2</td>\n",
       "      <td>3</td>\n",
       "      <td>2</td>\n",
       "      <td>2208</td>\n",
       "      <td>0</td>\n",
       "      <td>0</td>\n",
       "      <td>2</td>\n",
       "      <td>NaN</td>\n",
       "    </tr>\n",
       "    <tr>\n",
       "      <td>2</td>\n",
       "      <td>2</td>\n",
       "      <td>1</td>\n",
       "      <td>530334</td>\n",
       "      <td>38.30</td>\n",
       "      <td>40</td>\n",
       "      <td>24</td>\n",
       "      <td>1</td>\n",
       "      <td>1</td>\n",
       "      <td>3</td>\n",
       "      <td>1</td>\n",
       "      <td>...</td>\n",
       "      <td>6.70</td>\n",
       "      <td>?</td>\n",
       "      <td>?</td>\n",
       "      <td>1</td>\n",
       "      <td>2</td>\n",
       "      <td>0</td>\n",
       "      <td>0</td>\n",
       "      <td>0</td>\n",
       "      <td>1</td>\n",
       "      <td>NaN</td>\n",
       "    </tr>\n",
       "    <tr>\n",
       "      <td>3</td>\n",
       "      <td>1</td>\n",
       "      <td>9</td>\n",
       "      <td>5290409</td>\n",
       "      <td>39.10</td>\n",
       "      <td>164</td>\n",
       "      <td>84</td>\n",
       "      <td>4</td>\n",
       "      <td>1</td>\n",
       "      <td>6</td>\n",
       "      <td>2</td>\n",
       "      <td>...</td>\n",
       "      <td>7.20</td>\n",
       "      <td>3</td>\n",
       "      <td>5.30</td>\n",
       "      <td>2</td>\n",
       "      <td>1</td>\n",
       "      <td>2208</td>\n",
       "      <td>0</td>\n",
       "      <td>0</td>\n",
       "      <td>1</td>\n",
       "      <td>NaN</td>\n",
       "    </tr>\n",
       "    <tr>\n",
       "      <td>4</td>\n",
       "      <td>2</td>\n",
       "      <td>1</td>\n",
       "      <td>530255</td>\n",
       "      <td>37.30</td>\n",
       "      <td>104</td>\n",
       "      <td>35</td>\n",
       "      <td>?</td>\n",
       "      <td>?</td>\n",
       "      <td>6</td>\n",
       "      <td>2</td>\n",
       "      <td>...</td>\n",
       "      <td>7.40</td>\n",
       "      <td>?</td>\n",
       "      <td>?</td>\n",
       "      <td>2</td>\n",
       "      <td>2</td>\n",
       "      <td>4300</td>\n",
       "      <td>0</td>\n",
       "      <td>0</td>\n",
       "      <td>2</td>\n",
       "      <td>NaN</td>\n",
       "    </tr>\n",
       "    <tr>\n",
       "      <td>...</td>\n",
       "      <td>...</td>\n",
       "      <td>...</td>\n",
       "      <td>...</td>\n",
       "      <td>...</td>\n",
       "      <td>...</td>\n",
       "      <td>...</td>\n",
       "      <td>...</td>\n",
       "      <td>...</td>\n",
       "      <td>...</td>\n",
       "      <td>...</td>\n",
       "      <td>...</td>\n",
       "      <td>...</td>\n",
       "      <td>...</td>\n",
       "      <td>...</td>\n",
       "      <td>...</td>\n",
       "      <td>...</td>\n",
       "      <td>...</td>\n",
       "      <td>...</td>\n",
       "      <td>...</td>\n",
       "      <td>...</td>\n",
       "      <td>...</td>\n",
       "    </tr>\n",
       "    <tr>\n",
       "      <td>363</td>\n",
       "      <td>2</td>\n",
       "      <td>1</td>\n",
       "      <td>529695</td>\n",
       "      <td>38.60</td>\n",
       "      <td>60</td>\n",
       "      <td>30</td>\n",
       "      <td>1</td>\n",
       "      <td>1</td>\n",
       "      <td>3</td>\n",
       "      <td>1</td>\n",
       "      <td>...</td>\n",
       "      <td>6.00</td>\n",
       "      <td>1</td>\n",
       "      <td>?</td>\n",
       "      <td>1</td>\n",
       "      <td>1</td>\n",
       "      <td>3205</td>\n",
       "      <td>0</td>\n",
       "      <td>0</td>\n",
       "      <td>2</td>\n",
       "      <td>NaN</td>\n",
       "    </tr>\n",
       "    <tr>\n",
       "      <td>364</td>\n",
       "      <td>2</td>\n",
       "      <td>1</td>\n",
       "      <td>528452</td>\n",
       "      <td>37.80</td>\n",
       "      <td>42</td>\n",
       "      <td>40</td>\n",
       "      <td>1</td>\n",
       "      <td>1</td>\n",
       "      <td>1</td>\n",
       "      <td>1</td>\n",
       "      <td>...</td>\n",
       "      <td>6.20</td>\n",
       "      <td>?</td>\n",
       "      <td>?</td>\n",
       "      <td>1</td>\n",
       "      <td>2</td>\n",
       "      <td>4124</td>\n",
       "      <td>0</td>\n",
       "      <td>0</td>\n",
       "      <td>2</td>\n",
       "      <td>NaN</td>\n",
       "    </tr>\n",
       "    <tr>\n",
       "      <td>365</td>\n",
       "      <td>1</td>\n",
       "      <td>1</td>\n",
       "      <td>534783</td>\n",
       "      <td>38</td>\n",
       "      <td>60</td>\n",
       "      <td>12</td>\n",
       "      <td>1</td>\n",
       "      <td>1</td>\n",
       "      <td>2</td>\n",
       "      <td>1</td>\n",
       "      <td>...</td>\n",
       "      <td>65</td>\n",
       "      <td>3</td>\n",
       "      <td>2</td>\n",
       "      <td>3</td>\n",
       "      <td>1</td>\n",
       "      <td>2209</td>\n",
       "      <td>0</td>\n",
       "      <td>0</td>\n",
       "      <td>2</td>\n",
       "      <td>NaN</td>\n",
       "    </tr>\n",
       "    <tr>\n",
       "      <td>366</td>\n",
       "      <td>2</td>\n",
       "      <td>1</td>\n",
       "      <td>528926</td>\n",
       "      <td>38.00</td>\n",
       "      <td>42</td>\n",
       "      <td>12</td>\n",
       "      <td>3</td>\n",
       "      <td>?</td>\n",
       "      <td>3</td>\n",
       "      <td>1</td>\n",
       "      <td>...</td>\n",
       "      <td>5.80</td>\n",
       "      <td>?</td>\n",
       "      <td>?</td>\n",
       "      <td>1</td>\n",
       "      <td>2</td>\n",
       "      <td>3111</td>\n",
       "      <td>0</td>\n",
       "      <td>0</td>\n",
       "      <td>2</td>\n",
       "      <td>NaN</td>\n",
       "    </tr>\n",
       "    <tr>\n",
       "      <td>367</td>\n",
       "      <td>2</td>\n",
       "      <td>1</td>\n",
       "      <td>530670</td>\n",
       "      <td>37.60</td>\n",
       "      <td>88</td>\n",
       "      <td>36</td>\n",
       "      <td>3</td>\n",
       "      <td>1</td>\n",
       "      <td>1</td>\n",
       "      <td>1</td>\n",
       "      <td>...</td>\n",
       "      <td>6.00</td>\n",
       "      <td>?</td>\n",
       "      <td>?</td>\n",
       "      <td>2</td>\n",
       "      <td>1</td>\n",
       "      <td>2112</td>\n",
       "      <td>0</td>\n",
       "      <td>0</td>\n",
       "      <td>2</td>\n",
       "      <td>NaN</td>\n",
       "    </tr>\n",
       "  </tbody>\n",
       "</table>\n",
       "<p>368 rows × 29 columns</p>\n",
       "</div>"
      ],
      "text/plain": [
       "    surgery  Age  Hospital_Num rectal_temp pulse respiratory_rate extremities  \\\n",
       "0         2    1        530101       38.50    66               28           3   \n",
       "1         1    1        534817        39.2    88               20           ?   \n",
       "2         2    1        530334       38.30    40               24           1   \n",
       "3         1    9       5290409       39.10   164               84           4   \n",
       "4         2    1        530255       37.30   104               35           ?   \n",
       "..      ...  ...           ...         ...   ...              ...         ...   \n",
       "363       2    1        529695       38.60    60               30           1   \n",
       "364       2    1        528452       37.80    42               40           1   \n",
       "365       1    1        534783          38    60               12           1   \n",
       "366       2    1        528926       38.00    42               12           3   \n",
       "367       2    1        530670       37.60    88               36           3   \n",
       "\n",
       "    peripheral_pulse mucous_membranes capillary_refill-time  ...  \\\n",
       "0                  3                ?                     2  ...   \n",
       "1                  ?                4                     1  ...   \n",
       "2                  1                3                     1  ...   \n",
       "3                  1                6                     2  ...   \n",
       "4                  ?                6                     2  ...   \n",
       "..               ...              ...                   ...  ...   \n",
       "363                1                3                     1  ...   \n",
       "364                1                1                     1  ...   \n",
       "365                1                2                     1  ...   \n",
       "366                ?                3                     1  ...   \n",
       "367                1                1                     1  ...   \n",
       "\n",
       "    total_protein abdominocentesis_appearance abdomcentesis_total_protein  \\\n",
       "0            8.40                           ?                           ?   \n",
       "1              85                           2                           2   \n",
       "2            6.70                           ?                           ?   \n",
       "3            7.20                           3                        5.30   \n",
       "4            7.40                           ?                           ?   \n",
       "..            ...                         ...                         ...   \n",
       "363          6.00                           1                           ?   \n",
       "364          6.20                           ?                           ?   \n",
       "365            65                           3                           2   \n",
       "366          5.80                           ?                           ?   \n",
       "367          6.00                           ?                           ?   \n",
       "\n",
       "    outcome surgical_lesion lesion_1 lesion_2 lesion_3 cp_data Unnamed: 28  \n",
       "0         2               2    11300        0        0       2         NaN  \n",
       "1         3               2     2208        0        0       2         NaN  \n",
       "2         1               2        0        0        0       1         NaN  \n",
       "3         2               1     2208        0        0       1         NaN  \n",
       "4         2               2     4300        0        0       2         NaN  \n",
       "..      ...             ...      ...      ...      ...     ...         ...  \n",
       "363       1               1     3205        0        0       2         NaN  \n",
       "364       1               2     4124        0        0       2         NaN  \n",
       "365       3               1     2209        0        0       2         NaN  \n",
       "366       1               2     3111        0        0       2         NaN  \n",
       "367       2               1     2112        0        0       2         NaN  \n",
       "\n",
       "[368 rows x 29 columns]"
      ]
     },
     "metadata": {},
     "output_type": "display_data"
    }
   ],
   "source": [
    "train_data = load_data('./horse-colic.data', sep=' ')\n",
    "test_data = load_data('./horse-colic.test', sep=' ')\n",
    "\n",
    "# Combine for convenience\n",
    "concat_index = len(train_data)\n",
    "train_data = pd.concat([train_data, test_data], axis=0)\n",
    "train_data.reset_index(drop=True, inplace=True)\n",
    "display(train_data)"
   ]
  },
  {
   "cell_type": "markdown",
   "metadata": {},
   "source": [
    "## 1.2 Simple Cleaning\n",
    "\n",
    "1. Drop the last 2 columns, and hosipital num: \n",
    "    * one of extra spaces\n",
    "    * another is sure to be useless according to .name file.\n",
    "2. Replace '?' with nan, and check how many missing values there are.\n",
    "3. Split lesions.\n",
    "4. Place the label(column 23) at last.\n",
    "5. Transfer data type with to_numeric() (int or float).\n",
    "6. Age '9' to '0', Surgery '2' to '0'."
   ]
  },
  {
   "cell_type": "code",
   "execution_count": 3,
   "metadata": {},
   "outputs": [],
   "source": [
    "# 1\n",
    "train_data.drop(train_data.columns[-2:], 1, inplace=True)\n",
    "train_data.drop('Hospital_Num', 1, inplace=True)"
   ]
  },
  {
   "cell_type": "code",
   "execution_count": 4,
   "metadata": {},
   "outputs": [],
   "source": [
    "# 2\n",
    "train_data.replace('?', np.nan, inplace=True)"
   ]
  },
  {
   "cell_type": "code",
   "execution_count": 5,
   "metadata": {},
   "outputs": [
    {
     "name": "stdout",
     "output_type": "stream",
     "text": [
      "[   0 2209]\n"
     ]
    }
   ],
   "source": [
    "# 3\n",
    "lesions = [train_data['lesion_1'], train_data['lesion_2'], train_data['lesion_3']]\n",
    "print(pd.unique(train_data['lesion_3']))\n",
    "# lesion_3 is of almost no use in common\n",
    "train_data.drop('lesion_3', 1, inplace=True)"
   ]
  },
  {
   "cell_type": "code",
   "execution_count": 6,
   "metadata": {},
   "outputs": [],
   "source": [
    "lesions1 = [str(i) for i in lesions[0]]\n",
    "for idx, i in enumerate(lesions1):\n",
    "    if len(i) == 4:\n",
    "        lesions1[idx] = '0' + lesions1[idx]\n",
    "    elif len(i) == 5:\n",
    "        if i[:2] == '11' and i[-2:] == '10':\n",
    "            lesions1[idx] = '0' + lesions1[idx]\n",
    "        elif i[:2] != '11' and i[-2:] == '10':\n",
    "            lesions1[idx] = '0' + lesions1[idx]\n",
    "    else:\n",
    "        lesions1[idx] = '0'*(5-len(i)) + lesions1[idx]\n",
    "site1, type1 = pd.Series([i[:2] for i in lesions1], name='site1'), pd.Series([i[2] for i in lesions1], name='type1')\n",
    "stype1, scode1 = pd.Series([i[3] for i in lesions1], name='stype1'), pd.Series([i[4:] for i in lesions1], name='scode1')\n",
    "\n",
    "train_data.drop('lesion_1', 1, inplace=True)\n",
    "train_data = pd.concat([train_data, site1, type1, stype1, scode1], axis=1)"
   ]
  },
  {
   "cell_type": "code",
   "execution_count": 7,
   "metadata": {},
   "outputs": [],
   "source": [
    "lesions2 = [str(i) for i in lesions[0]]\n",
    "for idx, i in enumerate(lesions2):\n",
    "    if len(i) == 4:\n",
    "        lesions2[idx] = '0' + lesions2[idx]\n",
    "    elif len(i) == 5:\n",
    "        if i[:2] == '11' and i[-2:] == '10':\n",
    "            lesions1[idx] = '0' + lesions2[idx]\n",
    "        elif i[:2] != '11' and i[-2:] == '10':\n",
    "            lesions2[idx] = '0' + lesions2[idx]\n",
    "    else:\n",
    "        lesions2[idx] = '0'*(5-len(i)) + lesions2[idx]\n",
    "site2, type2 = pd.Series([i[:2] for i in lesions2], name='site2'), pd.Series([i[2] for i in lesions2], name='type2')\n",
    "stype2, scode2 = pd.Series([i[3] for i in lesions2], name='stype2'), pd.Series([i[4:] for i in lesions2], name='scode2')\n",
    "\n",
    "train_data.drop('lesion_2', 1, inplace=True)\n",
    "train_data = pd.concat([train_data, site2, type2, stype2, scode2], axis=1)"
   ]
  },
  {
   "cell_type": "code",
   "execution_count": 8,
   "metadata": {},
   "outputs": [],
   "source": [
    "# 4\n",
    "label = train_data['outcome']\n",
    "train_data = train_data.drop(['outcome'], axis=1)\n",
    "train_data = pd.concat([train_data, label], axis=1)"
   ]
  },
  {
   "cell_type": "code",
   "execution_count": 9,
   "metadata": {},
   "outputs": [],
   "source": [
    "# 5\n",
    "for i in train_data.columns:\n",
    "    train_data[i] = train_data[i].map(np.float64)"
   ]
  },
  {
   "cell_type": "code",
   "execution_count": 10,
   "metadata": {},
   "outputs": [],
   "source": [
    "# 6\n",
    "train_data['surgery'] = train_data['surgery'].map({1:1, 2:0})\n",
    "train_data['Age'] = train_data['Age'].map({1:1, 9:0})"
   ]
  },
  {
   "cell_type": "markdown",
   "metadata": {},
   "source": [
    "From these results, we found many missing value even mostly up to 247 missing in 300.\n",
    "\n",
    "However, the dataset has only 300 samples which make each of them crucial.  \n",
    "\n",
    "That is to say, there's a long way to go to fix it!(instead of merely drop the sample...)"
   ]
  },
  {
   "cell_type": "markdown",
   "metadata": {},
   "source": [
    "# 2 Feature Engineering"
   ]
  },
  {
   "cell_type": "markdown",
   "metadata": {},
   "source": [
    "Fortunately, from the .name file we can retrieve much help from the description on attributes."
   ]
  },
  {
   "cell_type": "markdown",
   "metadata": {},
   "source": [
    "## 2.1 Missing Rate\n",
    "\n",
    "Calculate the missing rate of each feature, if the rate goes beyond 60%, discard the feature."
   ]
  },
  {
   "cell_type": "code",
   "execution_count": 11,
   "metadata": {},
   "outputs": [
    {
     "name": "stdout",
     "output_type": "stream",
     "text": [
      "nasogastric_reflux_PH\n",
      "abdomcentesis_total_protein\n"
     ]
    }
   ],
   "source": [
    "missing_rate = {}\n",
    "for i in train_data.columns:\n",
    "    missing_rate[i] = 100 * list(train_data[i].isna()).count(True) / len(train_data)\n",
    "\n",
    "for k in missing_rate:\n",
    "    if missing_rate[k] > 60:\n",
    "        print(k)\n",
    "        train_data.drop(k, 1, inplace=True)"
   ]
  },
  {
   "cell_type": "markdown",
   "metadata": {},
   "source": [
    "## 2.2 Seperate Continuous/Categorical/UnorderedCategorical(Nominal) Features"
   ]
  },
  {
   "cell_type": "code",
   "execution_count": 12,
   "metadata": {
    "scrolled": true
   },
   "outputs": [
    {
     "name": "stdout",
     "output_type": "stream",
     "text": [
      "[3, 2, 41, 55, 41, 5, 5, 7, 4, 6, 5, 5, 4, 4, 5, 6, 55, 85, 4, 2, 12, 5, 4, 11, 12, 5, 4, 11, 4]\n"
     ]
    }
   ],
   "source": [
    "vals_list = [len(pd.unique(train_data[i])) for i in train_data]\n",
    "print(vals_list)"
   ]
  },
  {
   "cell_type": "code",
   "execution_count": 13,
   "metadata": {},
   "outputs": [],
   "source": [
    "Continuous = ['rectal_temp', 'pulse', 'respiratory_rate', 'packed_cell_volume', 'total_protein']\n",
    "Categorical = ['Age', 'extremities', 'peripheral_pulse','capillary_refill-time', \n",
    "               'peristalsis', 'nasogastric_reflux', 'feces']\n",
    "Nominal = ['surgery', 'pain', 'mucous_membranes', 'abdominal_distension', 'nasogastric_tube', \n",
    "           'abdomen', 'abdominocentesis_appearance', 'surgical_lesion', 'site1', 'type1', \n",
    "           'stype1', 'scode1', 'site2', 'type2', 'stype2', 'scode2']"
   ]
  },
  {
   "cell_type": "markdown",
   "metadata": {},
   "source": [
    "## 2.3 Fix features\n",
    "\n",
    "- For Continuous NaN value, Fill with mean value.\n",
    "- For Categorical NaN value, Fill with mode value.\n",
    "- For Nominal NaN value, Fill with -1 value."
   ]
  },
  {
   "cell_type": "code",
   "execution_count": 14,
   "metadata": {},
   "outputs": [],
   "source": [
    "for i in train_data.columns:\n",
    "    if i in Continuous:\n",
    "        train_data[i].fillna(np.mean(train_data[i]), inplace=True)\n",
    "    elif i in Categorical:\n",
    "        train_data[i].fillna(train_data[i].mode()[0], inplace=True)\n",
    "    else:\n",
    "        train_data[i].fillna(-1, inplace=True)"
   ]
  },
  {
   "cell_type": "code",
   "execution_count": 15,
   "metadata": {},
   "outputs": [
    {
     "name": "stdout",
     "output_type": "stream",
     "text": [
      "<class 'pandas.core.frame.DataFrame'>\n",
      "RangeIndex: 368 entries, 0 to 367\n",
      "Data columns (total 29 columns):\n",
      "surgery                        368 non-null float64\n",
      "Age                            368 non-null int64\n",
      "rectal_temp                    368 non-null float64\n",
      "pulse                          368 non-null float64\n",
      "respiratory_rate               368 non-null float64\n",
      "extremities                    368 non-null float64\n",
      "peripheral_pulse               368 non-null float64\n",
      "mucous_membranes               368 non-null float64\n",
      "capillary_refill-time          368 non-null float64\n",
      "pain                           368 non-null float64\n",
      "peristalsis                    368 non-null float64\n",
      "abdominal_distension           368 non-null float64\n",
      "nasogastric_tube               368 non-null float64\n",
      "nasogastric_reflux             368 non-null float64\n",
      "feces                          368 non-null float64\n",
      "abdomen                        368 non-null float64\n",
      "packed_cell_volume             368 non-null float64\n",
      "total_protein                  368 non-null float64\n",
      "abdominocentesis_appearance    368 non-null float64\n",
      "surgical_lesion                368 non-null float64\n",
      "site1                          368 non-null float64\n",
      "type1                          368 non-null float64\n",
      "stype1                         368 non-null float64\n",
      "scode1                         368 non-null float64\n",
      "site2                          368 non-null float64\n",
      "type2                          368 non-null float64\n",
      "stype2                         368 non-null float64\n",
      "scode2                         368 non-null float64\n",
      "outcome                        368 non-null float64\n",
      "dtypes: float64(28), int64(1)\n",
      "memory usage: 83.5 KB\n"
     ]
    }
   ],
   "source": [
    "train_data.info()"
   ]
  },
  {
   "cell_type": "markdown",
   "metadata": {},
   "source": [
    "## 2.4 Fix sugery, outcome"
   ]
  },
  {
   "cell_type": "code",
   "execution_count": 16,
   "metadata": {},
   "outputs": [],
   "source": [
    "# sugery: Take the mode instead.\n",
    "idx = train_data.surgery.loc[train_data.surgery==-1]\n",
    "train_data.at[idx.index[0], 'surgery'] = train_data.surgery.mode()[0]\n",
    "train_data.at[idx.index[1], 'surgery'] = train_data.surgery.mode()[0]"
   ]
  },
  {
   "cell_type": "code",
   "execution_count": 17,
   "metadata": {},
   "outputs": [],
   "source": [
    "# outcome: Unable to fix a label.\n",
    "idx = train_data.outcome.loc[train_data.outcome==-1]\n",
    "train_data.drop(index=idx.index, inplace=True)"
   ]
  },
  {
   "cell_type": "markdown",
   "metadata": {},
   "source": [
    "## 2.5 One-hot Encoding on Nominal Features"
   ]
  },
  {
   "cell_type": "code",
   "execution_count": 18,
   "metadata": {},
   "outputs": [],
   "source": [
    "for i in Nominal:\n",
    "    train_data = pd.concat([train_data.drop(i, 1), pd.get_dummies(train_data[i], prefix=i)], 1)"
   ]
  },
  {
   "cell_type": "markdown",
   "metadata": {},
   "source": [
    "## 2.6 StandardScalar"
   ]
  },
  {
   "cell_type": "code",
   "execution_count": 19,
   "metadata": {},
   "outputs": [],
   "source": [
    "scl = Scaler()\n",
    "train_label = np.array(train_data['outcome'][0:concat_index-1])\n",
    "test_label = np.array(train_data['outcome'][concat_index-1:])\n",
    "train_data = scl.fit(train_data).transform(train_data)"
   ]
  },
  {
   "cell_type": "markdown",
   "metadata": {},
   "source": [
    "# 3 Training Model"
   ]
  },
  {
   "cell_type": "markdown",
   "metadata": {},
   "source": [
    "## 3.1 Split Data and Review"
   ]
  },
  {
   "cell_type": "code",
   "execution_count": 20,
   "metadata": {},
   "outputs": [
    {
     "data": {
      "text/plain": [
       "array([[ 0.2878198 ,  0.2878198 ,  0.2878198 , ...,  0.2878198 ,\n",
       "         0.2878198 ,  0.2878198 ],\n",
       "       [ 0.56816287,  1.65833642,  0.25668471, ..., -0.98922792,\n",
       "        -2.5466187 , -1.45644515],\n",
       "       [-0.17851584,  0.63372219, -1.13843352, ...,  0.04300362,\n",
       "         1.07676111, -1.13843352],\n",
       "       ...,\n",
       "       [ 1.17895741,  1.17895741,  0.08655637, ...,  1.17895741,\n",
       "         0.08655637,  0.08655637],\n",
       "       [-0.54936243, -0.54936243, -0.54936243, ..., -0.54936243,\n",
       "        -0.54936243, -0.54936243],\n",
       "       [-0.17384884,  0.68599813, -1.89354277, ..., -0.17384884,\n",
       "         0.68599813,  0.68599813]])"
      ]
     },
     "metadata": {},
     "output_type": "display_data"
    },
    {
     "data": {
      "text/plain": [
       "array([[0, 0, 1, 0, 0, 1, 1, 0, 0, 1, 1, 1, 1, 0, 1, 0, 0, 1, 1, 1, 1, 1,\n",
       "        1, 1, 1, 1, 1, 1, 0, 1, 0, 0, 1, 1, 1, 0, 0, 1, 1, 0, 0, 1, 1, 0,\n",
       "        0, 0, 1, 1, 0, 0, 1, 0, 1, 1, 0, 0, 1, 0, 0, 0, 1, 1, 0, 0, 1, 1,\n",
       "        1, 1, 1, 1, 0, 1, 0, 0, 0, 0, 1, 1, 0, 1, 0, 1, 1, 0, 1, 1, 0, 0,\n",
       "        1, 1, 1, 0, 1, 0, 1, 1, 1, 0, 1, 1, 1, 0, 1, 1, 0, 1, 1, 1, 0, 0,\n",
       "        0, 1, 1, 0, 1, 1, 1, 0, 1, 1, 1, 0, 1, 0, 0, 1, 1, 1, 0, 1, 0, 0,\n",
       "        1, 0, 0, 0, 1, 1, 1, 1, 0, 0, 1, 0, 1, 1, 0, 1, 1, 1, 0, 1, 1, 1,\n",
       "        1, 1, 0, 1, 1, 1, 0, 1, 0, 1, 0, 1, 1, 1, 0, 1, 0, 1, 0, 0, 1, 1,\n",
       "        0, 1, 0, 0, 1, 0, 1, 1, 1, 1, 1, 1, 1, 1, 1, 1, 0, 1, 1, 0, 0, 1,\n",
       "        1, 1, 0, 0, 1, 1, 0, 1, 0, 0, 1, 0, 0, 1, 1, 1, 1, 1, 1, 0, 1, 0,\n",
       "        1, 1, 1, 1, 1, 0, 1, 0, 1, 1, 0, 1, 1, 1, 0, 1, 1, 0, 0, 0, 1, 0,\n",
       "        1, 1, 0, 1, 0, 1, 1, 0, 0, 0, 1, 1, 0, 0, 0, 1, 0, 1, 1, 1, 0, 1,\n",
       "        0, 1, 1, 1, 1, 0, 1, 1, 0, 0, 0, 0, 1, 1, 1, 1, 0, 0, 1, 1, 1, 0,\n",
       "        1, 1, 1, 1, 0, 0, 0, 1, 0, 0, 0, 1, 0],\n",
       "       [1, 0, 0, 1, 1, 0, 0, 1, 0, 0, 0, 0, 0, 1, 0, 1, 1, 0, 0, 0, 0, 0,\n",
       "        0, 0, 0, 0, 0, 0, 1, 0, 1, 0, 0, 0, 0, 0, 0, 0, 0, 1, 1, 0, 0, 0,\n",
       "        0, 1, 0, 0, 1, 1, 0, 1, 0, 0, 0, 1, 0, 1, 1, 1, 0, 0, 1, 0, 0, 0,\n",
       "        0, 0, 0, 0, 0, 0, 1, 1, 1, 0, 0, 0, 1, 0, 1, 0, 0, 1, 0, 0, 1, 0,\n",
       "        0, 0, 0, 1, 0, 1, 0, 0, 0, 0, 0, 0, 0, 0, 0, 0, 1, 0, 0, 0, 0, 1,\n",
       "        1, 0, 0, 1, 0, 0, 0, 0, 0, 0, 0, 0, 0, 1, 0, 0, 0, 0, 0, 0, 1, 1,\n",
       "        0, 1, 1, 1, 0, 0, 0, 0, 1, 1, 0, 0, 0, 0, 1, 0, 0, 0, 1, 0, 0, 0,\n",
       "        0, 0, 0, 0, 0, 0, 1, 0, 0, 0, 0, 0, 0, 0, 0, 0, 1, 0, 1, 1, 0, 0,\n",
       "        1, 0, 0, 1, 0, 1, 0, 0, 0, 0, 0, 0, 0, 0, 0, 0, 1, 0, 0, 0, 1, 0,\n",
       "        0, 0, 1, 0, 0, 0, 0, 0, 1, 0, 0, 1, 1, 0, 0, 0, 0, 0, 0, 0, 0, 0,\n",
       "        0, 0, 0, 0, 0, 1, 0, 0, 0, 0, 1, 0, 0, 0, 1, 0, 0, 0, 0, 1, 0, 1,\n",
       "        0, 0, 1, 0, 1, 0, 0, 0, 1, 1, 0, 0, 1, 0, 1, 0, 1, 0, 0, 0, 1, 0,\n",
       "        0, 0, 0, 0, 0, 1, 0, 0, 1, 0, 1, 0, 0, 0, 0, 0, 1, 1, 0, 0, 0, 0,\n",
       "        0, 0, 0, 0, 1, 1, 0, 0, 0, 0, 1, 0, 0],\n",
       "       [0, 1, 0, 0, 0, 0, 0, 0, 1, 0, 0, 0, 0, 0, 0, 0, 0, 0, 0, 0, 0, 0,\n",
       "        0, 0, 0, 0, 0, 0, 0, 0, 0, 1, 0, 0, 0, 1, 1, 0, 0, 0, 0, 0, 0, 1,\n",
       "        1, 0, 0, 0, 0, 0, 0, 0, 0, 0, 1, 0, 0, 0, 0, 0, 0, 0, 0, 1, 0, 0,\n",
       "        0, 0, 0, 0, 1, 0, 0, 0, 0, 1, 0, 0, 0, 0, 0, 0, 0, 0, 0, 0, 0, 1,\n",
       "        0, 0, 0, 0, 0, 0, 0, 0, 0, 1, 0, 0, 0, 1, 0, 0, 0, 0, 0, 0, 1, 0,\n",
       "        0, 0, 0, 0, 0, 0, 0, 1, 0, 0, 0, 1, 0, 0, 1, 0, 0, 0, 1, 0, 0, 0,\n",
       "        0, 0, 0, 0, 0, 0, 0, 0, 0, 0, 0, 1, 0, 0, 0, 0, 0, 0, 0, 0, 0, 0,\n",
       "        0, 0, 1, 0, 0, 0, 0, 0, 1, 0, 1, 0, 0, 0, 1, 0, 0, 0, 0, 0, 0, 0,\n",
       "        0, 0, 1, 0, 0, 0, 0, 0, 0, 0, 0, 0, 0, 0, 0, 0, 0, 0, 0, 1, 0, 0,\n",
       "        0, 0, 0, 1, 0, 0, 1, 0, 0, 1, 0, 0, 0, 0, 0, 0, 0, 0, 0, 1, 0, 1,\n",
       "        0, 0, 0, 0, 0, 0, 0, 1, 0, 0, 0, 0, 0, 0, 0, 0, 0, 1, 1, 0, 0, 0,\n",
       "        0, 0, 0, 0, 0, 0, 0, 1, 0, 0, 0, 0, 0, 1, 0, 0, 0, 0, 0, 0, 0, 0,\n",
       "        1, 0, 0, 0, 0, 0, 0, 0, 0, 1, 0, 1, 0, 0, 0, 0, 0, 0, 0, 0, 0, 1,\n",
       "        0, 0, 0, 0, 0, 0, 1, 0, 1, 1, 0, 0, 1]])"
      ]
     },
     "metadata": {},
     "output_type": "display_data"
    },
    {
     "data": {
      "text/plain": [
       "array([[ 2.87819799e-01,  2.87819799e-01,  2.87819799e-01,\n",
       "         2.87819799e-01,  2.87819799e-01,  2.87819799e-01,\n",
       "         2.87819799e-01,  2.87819799e-01,  2.87819799e-01,\n",
       "         2.87819799e-01,  2.87819799e-01,  2.87819799e-01,\n",
       "         2.87819799e-01,  2.87819799e-01, -3.47439614e+00,\n",
       "         2.87819799e-01,  2.87819799e-01,  2.87819799e-01,\n",
       "        -3.47439614e+00,  2.87819799e-01,  2.87819799e-01,\n",
       "         2.87819799e-01,  2.87819799e-01,  2.87819799e-01,\n",
       "         2.87819799e-01,  2.87819799e-01,  2.87819799e-01,\n",
       "         2.87819799e-01,  2.87819799e-01,  2.87819799e-01,\n",
       "         2.87819799e-01,  2.87819799e-01,  2.87819799e-01,\n",
       "         2.87819799e-01,  2.87819799e-01,  2.87819799e-01,\n",
       "         2.87819799e-01,  2.87819799e-01,  2.87819799e-01,\n",
       "         2.87819799e-01,  2.87819799e-01,  2.87819799e-01,\n",
       "         2.87819799e-01,  2.87819799e-01,  2.87819799e-01,\n",
       "         2.87819799e-01,  2.87819799e-01,  2.87819799e-01,\n",
       "         2.87819799e-01,  2.87819799e-01, -3.47439614e+00,\n",
       "         2.87819799e-01,  2.87819799e-01,  2.87819799e-01,\n",
       "         2.87819799e-01,  2.87819799e-01,  2.87819799e-01,\n",
       "         2.87819799e-01,  2.87819799e-01,  2.87819799e-01,\n",
       "         2.87819799e-01, -3.47439614e+00,  2.87819799e-01,\n",
       "         2.87819799e-01,  2.87819799e-01,  2.87819799e-01,\n",
       "         2.87819799e-01],\n",
       "       [ 5.68162868e-01, -8.33488839e-01, -6.77749761e-01,\n",
       "        -1.76792331e+00, -2.10532525e-01, -1.14419851e-03,\n",
       "         4.12423790e-01, -5.22010682e-01, -3.66271604e-01,\n",
       "         1.34685826e+00,  1.00945632e-01, -1.14419851e-03,\n",
       "        -3.66271604e-01, -2.10532525e-01, -2.10532525e-01,\n",
       "         2.56684711e-01, -9.89227918e-01, -9.89227918e-01,\n",
       "        -1.14419851e-03,  2.43703181e+00,  2.56684711e-01,\n",
       "        -9.89227918e-01,  4.12423790e-01, -5.47934463e-02,\n",
       "         8.79641025e-01, -5.47934463e-02,  4.12423790e-01,\n",
       "         1.00945632e-01, -6.77749761e-01,  1.50259734e+00,\n",
       "        -5.22010682e-01,  1.34685826e+00,  1.00945632e-01,\n",
       "         2.56684711e-01, -2.10532525e-01, -1.14419851e-03,\n",
       "        -8.33488839e-01, -9.89227918e-01,  1.00945632e-01,\n",
       "        -2.10532525e-01,  2.56684711e-01, -1.14419851e-03,\n",
       "        -6.77749761e-01, -3.32531410e+00, -1.61218423e+00,\n",
       "        -1.61218423e+00, -5.47934463e-02, -1.76792331e+00,\n",
       "         7.23901947e-01, -1.14419851e-03,  1.00945632e-01,\n",
       "        -5.22010682e-01,  8.79641025e-01, -1.14419851e-03,\n",
       "         2.56684711e-01, -1.14496700e+00, -1.14419851e-03,\n",
       "        -2.39087963e+00,  5.68162868e-01, -1.14419851e-03,\n",
       "         1.00945632e-01,  1.00945632e-01,  7.23901947e-01,\n",
       "        -5.22010682e-01, -2.10532525e-01, -2.10532525e-01,\n",
       "        -8.33488839e-01],\n",
       "       [-6.21554769e-01, -8.43074231e-01, -9.90753873e-01,\n",
       "        -5.47714948e-01, -1.06459369e+00, -4.00035306e-01,\n",
       "         3.38362904e-01, -8.43074231e-01, -9.53833963e-01,\n",
       "         4.86042546e-01, -4.00035306e-01,  2.55355753e+00,\n",
       "         1.81515932e+00,  4.30036199e-02,  7.81401829e-01,\n",
       "        -1.78515843e-01, -8.43074231e-01,  6.33722187e-01,\n",
       "         2.92275664e+00,  1.07676111e+00,  3.38362904e-01,\n",
       "        -1.13843352e+00,  4.86042546e-01,  4.86042546e-01,\n",
       "        -6.95394590e-01, -9.90753873e-01, -6.95394590e-01,\n",
       "        -4.00035306e-01, -1.13843352e+00, -4.00035306e-01,\n",
       "        -8.43074231e-01,  1.81515932e+00,  1.90683262e-01,\n",
       "         6.33722187e-01,  3.38362904e-01, -2.87638583e-03,\n",
       "        -1.13843352e+00, -9.90753873e-01, -1.06459369e+00,\n",
       "        -5.47714948e-01, -9.53833963e-01, -8.43074231e-01,\n",
       "        -5.84634858e-01,  1.07676111e+00, -4.00035306e-01,\n",
       "         1.59363986e+00,  4.30036199e-02, -9.90753873e-01,\n",
       "        -8.43074231e-01,  4.12202725e-01,  2.64523083e-01,\n",
       "        -4.00035306e-01, -1.35995298e+00, -1.28611316e+00,\n",
       "        -9.90753873e-01, -6.21554769e-01, -2.87638583e-03,\n",
       "        -8.43074231e-01,  7.07562008e-01,  1.53763351e-01,\n",
       "        -1.06459369e+00,  2.64523083e-01, -4.00035306e-01,\n",
       "        -1.06459369e+00, -4.00035306e-01, -1.06459369e+00,\n",
       "         6.33722187e-01],\n",
       "       [-6.63055231e-01,  3.44939870e-01, -1.59057680e-01,\n",
       "        -4.11056456e-01, -1.16705278e+00,  5.96938645e-01,\n",
       "         1.85693252e+00, -1.16705278e+00,  3.44939870e-01,\n",
       "        -1.16705278e+00, -4.11056456e-01, -1.79664634e-04,\n",
       "         1.85693252e+00,  3.44939870e-01, -1.59057680e-01,\n",
       "        -3.30582927e-02, -4.11056456e-01, -6.63055231e-01,\n",
       "         1.85693252e+00, -3.30582927e-02, -1.79664634e-04,\n",
       "         9.29410949e-02, -3.30582927e-02,  8.48937420e-01,\n",
       "        -1.79664634e-04,  5.96938645e-01, -6.63055231e-01,\n",
       "        -1.79664634e-04, -7.89054618e-01, -1.29305217e+00,\n",
       "        -9.15054006e-01, -1.79664634e-04, -1.79664634e-04,\n",
       "        -1.79664634e-04, -3.30582927e-02, -1.79664634e-04,\n",
       "        -1.79664634e-04, -1.79664634e-04, -9.15054006e-01,\n",
       "         8.48937420e-01, -6.63055231e-01,  4.12492150e+00,\n",
       "        -1.59057680e-01, -6.63055231e-01, -6.63055231e-01,\n",
       "         5.96938645e-01, -3.30582927e-02, -1.16705278e+00,\n",
       "        -6.63055231e-01,  2.61292885e+00,  1.85693252e+00,\n",
       "        -9.15054006e-01, -3.30582927e-02, -1.16705278e+00,\n",
       "         1.85693252e+00, -7.89054618e-01, -1.79664634e-04,\n",
       "        -9.15054006e-01, -1.79664634e-04, -1.16705278e+00,\n",
       "        -1.79664634e-04,  1.85693252e+00, -3.30582927e-02,\n",
       "         5.96938645e-01, -1.16705278e+00, -1.16705278e+00,\n",
       "         3.44939870e-01],\n",
       "       [ 5.45525512e-01,  5.45525512e-01,  5.45525512e-01,\n",
       "         5.45525512e-01,  5.45525512e-01,  5.45525512e-01,\n",
       "         5.45525512e-01, -4.78383910e-01,  5.45525512e-01,\n",
       "         5.45525512e-01,  5.45525512e-01,  5.45525512e-01,\n",
       "         5.45525512e-01, -1.50229333e+00, -1.50229333e+00,\n",
       "        -4.78383910e-01,  5.45525512e-01, -4.78383910e-01,\n",
       "         1.56943493e+00,  5.45525512e-01,  5.45525512e-01,\n",
       "         5.45525512e-01,  5.45525512e-01,  1.56943493e+00,\n",
       "        -1.50229333e+00, -4.78383910e-01, -4.78383910e-01,\n",
       "        -1.50229333e+00, -1.50229333e+00,  5.45525512e-01,\n",
       "        -1.50229333e+00,  1.56943493e+00, -4.78383910e-01,\n",
       "         5.45525512e-01,  5.45525512e-01,  5.45525512e-01,\n",
       "        -1.50229333e+00, -1.50229333e+00, -1.50229333e+00,\n",
       "         5.45525512e-01,  5.45525512e-01, -1.50229333e+00,\n",
       "        -4.78383910e-01,  1.56943493e+00, -4.78383910e-01,\n",
       "         5.45525512e-01,  5.45525512e-01,  5.45525512e-01,\n",
       "         5.45525512e-01,  5.45525512e-01,  1.56943493e+00,\n",
       "        -1.50229333e+00, -4.78383910e-01, -1.50229333e+00,\n",
       "         5.45525512e-01,  5.45525512e-01,  1.56943493e+00,\n",
       "         5.45525512e-01, -1.50229333e+00, -1.50229333e+00,\n",
       "         5.45525512e-01,  1.56943493e+00, -1.50229333e+00,\n",
       "        -1.50229333e+00, -1.50229333e+00,  5.45525512e-01,\n",
       "         5.45525512e-01],\n",
       "       [-7.41700864e-01, -7.41700864e-01,  2.23051647e+00,\n",
       "        -7.41700864e-01, -7.41700864e-01, -7.41700864e-01,\n",
       "         2.49038246e-01, -7.41700864e-01,  1.23977736e+00,\n",
       "        -7.41700864e-01, -7.41700864e-01, -7.41700864e-01,\n",
       "         1.23977736e+00, -7.41700864e-01, -7.41700864e-01,\n",
       "         1.23977736e+00, -7.41700864e-01,  1.23977736e+00,\n",
       "         2.23051647e+00, -7.41700864e-01,  1.23977736e+00,\n",
       "        -7.41700864e-01, -7.41700864e-01, -7.41700864e-01,\n",
       "        -7.41700864e-01, -7.41700864e-01, -7.41700864e-01,\n",
       "        -7.41700864e-01, -7.41700864e-01, -7.41700864e-01,\n",
       "        -7.41700864e-01,  1.23977736e+00,  1.23977736e+00,\n",
       "        -7.41700864e-01,  1.23977736e+00, -7.41700864e-01,\n",
       "        -7.41700864e-01, -7.41700864e-01, -7.41700864e-01,\n",
       "         1.23977736e+00,  1.23977736e+00, -7.41700864e-01,\n",
       "        -7.41700864e-01,  1.23977736e+00, -7.41700864e-01,\n",
       "        -7.41700864e-01,  1.23977736e+00, -7.41700864e-01,\n",
       "        -7.41700864e-01, -7.41700864e-01,  2.23051647e+00,\n",
       "        -7.41700864e-01, -7.41700864e-01, -7.41700864e-01,\n",
       "        -7.41700864e-01, -7.41700864e-01,  1.23977736e+00,\n",
       "        -7.41700864e-01, -7.41700864e-01, -7.41700864e-01,\n",
       "        -7.41700864e-01,  2.23051647e+00, -7.41700864e-01,\n",
       "        -7.41700864e-01, -7.41700864e-01, -7.41700864e-01,\n",
       "        -7.41700864e-01],\n",
       "       [ 1.59857314e+00, -5.92729365e-01,  1.59857314e+00,\n",
       "         1.59857314e+00, -5.92729365e-01, -5.92729365e-01,\n",
       "        -5.92729365e-01, -5.92729365e-01,  1.59857314e+00,\n",
       "        -5.92729365e-01,  1.59857314e+00,  1.59857314e+00,\n",
       "        -5.92729365e-01, -5.92729365e-01, -5.92729365e-01,\n",
       "        -5.92729365e-01, -5.92729365e-01, -5.92729365e-01,\n",
       "         1.59857314e+00,  1.59857314e+00,  1.59857314e+00,\n",
       "        -5.92729365e-01,  1.59857314e+00,  1.59857314e+00,\n",
       "        -5.92729365e-01, -5.92729365e-01, -5.92729365e-01,\n",
       "        -5.92729365e-01, -5.92729365e-01, -5.92729365e-01,\n",
       "        -5.92729365e-01,  1.59857314e+00, -5.92729365e-01,\n",
       "        -5.92729365e-01, -5.92729365e-01, -5.92729365e-01,\n",
       "        -5.92729365e-01, -5.92729365e-01, -5.92729365e-01,\n",
       "        -5.92729365e-01,  1.59857314e+00, -5.92729365e-01,\n",
       "        -5.92729365e-01,  1.59857314e+00, -5.92729365e-01,\n",
       "         1.59857314e+00, -5.92729365e-01,  1.59857314e+00,\n",
       "        -5.92729365e-01, -5.92729365e-01, -5.92729365e-01,\n",
       "        -5.92729365e-01, -5.92729365e-01, -5.92729365e-01,\n",
       "        -5.92729365e-01, -5.92729365e-01,  1.59857314e+00,\n",
       "        -5.92729365e-01, -5.92729365e-01, -5.92729365e-01,\n",
       "        -5.92729365e-01, -5.92729365e-01, -5.92729365e-01,\n",
       "        -5.92729365e-01, -5.92729365e-01, -5.92729365e-01,\n",
       "        -5.92729365e-01],\n",
       "       [ 1.17895741e+00,  8.65563670e-02,  1.17895741e+00,\n",
       "         1.17895741e+00,  8.65563670e-02,  1.17895741e+00,\n",
       "        -1.00584468e+00,  8.65563670e-02,  8.65563670e-02,\n",
       "         1.17895741e+00,  8.65563670e-02,  1.17895741e+00,\n",
       "         1.17895741e+00,  8.65563670e-02,  8.65563670e-02,\n",
       "         1.17895741e+00, -2.09824572e+00,  8.65563670e-02,\n",
       "         1.17895741e+00,  1.17895741e+00,  1.17895741e+00,\n",
       "        -1.00584468e+00,  8.65563670e-02,  8.65563670e-02,\n",
       "         8.65563670e-02,  8.65563670e-02,  8.65563670e-02,\n",
       "        -2.09824572e+00, -1.00584468e+00,  8.65563670e-02,\n",
       "        -2.09824572e+00,  1.17895741e+00,  8.65563670e-02,\n",
       "         8.65563670e-02,  8.65563670e-02,  8.65563670e-02,\n",
       "        -2.09824572e+00,  8.65563670e-02,  8.65563670e-02,\n",
       "        -2.09824572e+00,  1.17895741e+00,  1.17895741e+00,\n",
       "         8.65563670e-02,  1.17895741e+00,  8.65563670e-02,\n",
       "        -1.00584468e+00,  1.17895741e+00, -2.09824572e+00,\n",
       "         8.65563670e-02,  8.65563670e-02,  8.65563670e-02,\n",
       "         8.65563670e-02,  8.65563670e-02, -1.00584468e+00,\n",
       "         8.65563670e-02,  1.17895741e+00,  1.17895741e+00,\n",
       "        -2.09824572e+00,  8.65563670e-02,  8.65563670e-02,\n",
       "        -2.09824572e+00,  8.65563670e-02, -1.00584468e+00,\n",
       "         8.65563670e-02, -2.09824572e+00, -2.09824572e+00,\n",
       "         8.65563670e-02],\n",
       "       [ 8.56698050e-01, -5.49362427e-01, -5.49362427e-01,\n",
       "        -5.49362427e-01, -5.49362427e-01,  8.56698050e-01,\n",
       "         8.56698050e-01, -5.49362427e-01, -5.49362427e-01,\n",
       "         8.56698050e-01,  2.26275853e+00, -5.49362427e-01,\n",
       "         8.56698050e-01, -5.49362427e-01, -5.49362427e-01,\n",
       "         8.56698050e-01, -5.49362427e-01, -5.49362427e-01,\n",
       "        -5.49362427e-01, -5.49362427e-01, -5.49362427e-01,\n",
       "        -5.49362427e-01,  2.26275853e+00,  2.26275853e+00,\n",
       "        -5.49362427e-01, -5.49362427e-01, -5.49362427e-01,\n",
       "        -5.49362427e-01, -5.49362427e-01, -5.49362427e-01,\n",
       "        -5.49362427e-01,  2.26275853e+00,  8.56698050e-01,\n",
       "        -5.49362427e-01, -5.49362427e-01,  2.26275853e+00,\n",
       "        -5.49362427e-01, -5.49362427e-01, -5.49362427e-01,\n",
       "        -5.49362427e-01, -5.49362427e-01, -5.49362427e-01,\n",
       "         2.26275853e+00, -5.49362427e-01,  8.56698050e-01,\n",
       "        -5.49362427e-01, -5.49362427e-01, -5.49362427e-01,\n",
       "        -5.49362427e-01,  2.26275853e+00, -5.49362427e-01,\n",
       "         8.56698050e-01, -5.49362427e-01, -5.49362427e-01,\n",
       "        -5.49362427e-01,  8.56698050e-01, -5.49362427e-01,\n",
       "        -5.49362427e-01,  2.26275853e+00,  2.26275853e+00,\n",
       "        -5.49362427e-01, -5.49362427e-01, -5.49362427e-01,\n",
       "        -5.49362427e-01, -5.49362427e-01, -5.49362427e-01,\n",
       "         2.26275853e+00],\n",
       "       [ 6.85998127e-01,  6.85998127e-01, -1.73848840e-01,\n",
       "         6.85998127e-01,  6.85998127e-01,  6.85998127e-01,\n",
       "        -1.89354277e+00, -1.03369581e+00, -1.73848840e-01,\n",
       "         6.85998127e-01,  6.85998127e-01,  6.85998127e-01,\n",
       "         6.85998127e-01, -1.73848840e-01,  6.85998127e-01,\n",
       "         6.85998127e-01, -1.73848840e-01,  6.85998127e-01,\n",
       "         6.85998127e-01,  6.85998127e-01,  6.85998127e-01,\n",
       "         6.85998127e-01,  6.85998127e-01,  6.85998127e-01,\n",
       "        -1.89354277e+00, -1.89354277e+00, -1.73848840e-01,\n",
       "         6.85998127e-01, -1.73848840e-01,  6.85998127e-01,\n",
       "         6.85998127e-01,  6.85998127e-01, -1.89354277e+00,\n",
       "         6.85998127e-01,  6.85998127e-01,  6.85998127e-01,\n",
       "        -1.89354277e+00,  6.85998127e-01, -1.89354277e+00,\n",
       "         6.85998127e-01,  6.85998127e-01, -1.89354277e+00,\n",
       "         6.85998127e-01,  6.85998127e-01, -1.73848840e-01,\n",
       "         6.85998127e-01, -1.73848840e-01,  6.85998127e-01,\n",
       "        -1.73848840e-01,  6.85998127e-01, -1.89354277e+00,\n",
       "        -1.73848840e-01,  6.85998127e-01, -1.89354277e+00,\n",
       "         6.85998127e-01,  6.85998127e-01,  6.85998127e-01,\n",
       "         6.85998127e-01,  6.85998127e-01,  6.85998127e-01,\n",
       "        -1.73848840e-01, -1.89354277e+00,  6.85998127e-01,\n",
       "        -1.73848840e-01, -1.89354277e+00,  6.85998127e-01,\n",
       "         6.85998127e-01]])"
      ]
     },
     "metadata": {},
     "output_type": "display_data"
    },
    {
     "data": {
      "text/plain": [
       "array([[1, 1, 1, 0, 1, 1, 1, 1, 1, 0, 1, 0, 0, 1, 1, 1, 1, 0, 0, 0, 1, 1,\n",
       "        0, 0, 1, 1, 1, 1, 1, 1, 1, 1, 1, 0, 1, 0, 1, 1, 1, 1, 1, 1, 1, 0,\n",
       "        1, 1, 1, 1, 1, 0, 0, 0, 0, 1, 1, 1, 1, 0, 1, 1, 1, 0, 1, 1, 0, 1,\n",
       "        0],\n",
       "       [0, 0, 0, 0, 0, 0, 0, 0, 0, 1, 0, 1, 1, 0, 0, 0, 0, 1, 1, 0, 0, 0,\n",
       "        1, 1, 0, 0, 0, 0, 0, 0, 0, 0, 0, 1, 0, 1, 0, 0, 0, 0, 0, 0, 0, 0,\n",
       "        0, 0, 0, 0, 0, 0, 1, 0, 0, 0, 0, 0, 0, 0, 0, 0, 0, 1, 0, 0, 0, 0,\n",
       "        1],\n",
       "       [0, 0, 0, 1, 0, 0, 0, 0, 0, 0, 0, 0, 0, 0, 0, 0, 0, 0, 0, 1, 0, 0,\n",
       "        0, 0, 0, 0, 0, 0, 0, 0, 0, 0, 0, 0, 0, 0, 0, 0, 0, 0, 0, 0, 0, 1,\n",
       "        0, 0, 0, 0, 0, 1, 0, 1, 1, 0, 0, 0, 0, 1, 0, 0, 0, 0, 0, 0, 1, 0,\n",
       "        0]])"
      ]
     },
     "metadata": {},
     "output_type": "display_data"
    }
   ],
   "source": [
    "# Training Data: Mind that a sample is removed from train_data because of the lost of label\n",
    "X_train = train_data[0:concat_index - 1, : -1].T\n",
    "Y_train_1 = [1 if i==1 else 0 for i in train_label]\n",
    "Y_train_2 = [1 if i==2 else 0 for i in train_label]\n",
    "Y_train_3 = [1 if i==3 else 0 for i in train_label]\n",
    "Y_train = np.array([Y_train_1, Y_train_2, Y_train_3])\n",
    "\n",
    "# Testing Data\n",
    "X_test = train_data[concat_index - 1:, : -1].T\n",
    "Y_test_1 = [1 if i==1 else 0 for i in test_label]\n",
    "Y_test_2 = [1 if i==2 else 0 for i in test_label]\n",
    "Y_test_3 = [1 if i==3 else 0 for i in test_label]\n",
    "Y_test = np.array([Y_test_1, Y_test_2, Y_test_3])\n",
    "\n",
    "display(X_train[:10])\n",
    "display(Y_train)\n",
    "display(X_test[:10])\n",
    "display(Y_test)"
   ]
  },
  {
   "cell_type": "code",
   "execution_count": 21,
   "metadata": {},
   "outputs": [
    {
     "name": "stdout",
     "output_type": "stream",
     "text": [
      "Shape of X_train: (112, 299)\n",
      "Shape of Y_train: (3, 299)\n",
      "Shape of X_test: (112, 67)\n",
      "Shape of Y_test: (3, 67)\n"
     ]
    }
   ],
   "source": [
    "print(\"Shape of X_train:\", X_train.shape)\n",
    "print(\"Shape of Y_train:\", Y_train.shape)\n",
    "print(\"Shape of X_test:\", X_test.shape)\n",
    "print(\"Shape of Y_test:\", Y_test.shape)"
   ]
  },
  {
   "cell_type": "markdown",
   "metadata": {},
   "source": [
    "## 3.2 GridSearching"
   ]
  },
  {
   "cell_type": "markdown",
   "metadata": {},
   "source": [
    "GridSearch() is implemented in utilities.py, with a very simply strategy, go through all possible values of given attribute, return the best combination of them."
   ]
  },
  {
   "cell_type": "code",
   "execution_count": 22,
   "metadata": {},
   "outputs": [],
   "source": [
    "HIDDEN_DIMS = [4, 8, 10]\n",
    "LRS = [0.01, 0.05, 0.1, 0.3, 0.5]\n",
    "L2_LAMBD = [0.1, 0.3, 0.5]\n",
    "OUTPUT_DIM = 3\n",
    "input_dim, num_sample = X_train.shape\n",
    "\n",
    "trainloader = placeholder(X_train, Y_train)\n",
    "testloader = placeholder(X_test, Y_test)"
   ]
  },
  {
   "cell_type": "code",
   "execution_count": 23,
   "metadata": {
    "scrolled": true
   },
   "outputs": [
    {
     "name": "stdout",
     "output_type": "stream",
     "text": [
      "GridSearching: Hidden_dim: 4, Learning Rate: 0.010000, L2 lambda: 0.100000 ---> Accuracy: 0.970149.\n",
      "GridSearching: Hidden_dim: 4, Learning Rate: 0.010000, L2 lambda: 0.300000 ---> Accuracy: 0.910448.\n",
      "GridSearching: Hidden_dim: 4, Learning Rate: 0.010000, L2 lambda: 0.500000 ---> Accuracy: 0.925373.\n",
      "GridSearching: Hidden_dim: 4, Learning Rate: 0.050000, L2 lambda: 0.100000 ---> Accuracy: 0.955224.\n",
      "GridSearching: Hidden_dim: 4, Learning Rate: 0.050000, L2 lambda: 0.300000 ---> Accuracy: 0.955224.\n",
      "GridSearching: Hidden_dim: 4, Learning Rate: 0.050000, L2 lambda: 0.500000 ---> Accuracy: 0.910448.\n",
      "GridSearching: Hidden_dim: 4, Learning Rate: 0.100000, L2 lambda: 0.100000 ---> Accuracy: 0.985075.\n",
      "GridSearching: Hidden_dim: 4, Learning Rate: 0.100000, L2 lambda: 0.300000 ---> Accuracy: 0.985075.\n",
      "GridSearching: Hidden_dim: 4, Learning Rate: 0.100000, L2 lambda: 0.500000 ---> Accuracy: 0.970149.\n",
      "GridSearching: Hidden_dim: 4, Learning Rate: 0.300000, L2 lambda: 0.100000 ---> Accuracy: 0.970149.\n",
      "GridSearching: Hidden_dim: 4, Learning Rate: 0.300000, L2 lambda: 0.300000 ---> Accuracy: 0.985075.\n",
      "GridSearching: Hidden_dim: 4, Learning Rate: 0.300000, L2 lambda: 0.500000 ---> Accuracy: 0.985075.\n",
      "GridSearching: Hidden_dim: 4, Learning Rate: 0.500000, L2 lambda: 0.100000 ---> Accuracy: 0.985075.\n",
      "GridSearching: Hidden_dim: 4, Learning Rate: 0.500000, L2 lambda: 0.300000 ---> Accuracy: 0.985075.\n",
      "GridSearching: Hidden_dim: 4, Learning Rate: 0.500000, L2 lambda: 0.500000 ---> Accuracy: 0.985075.\n",
      "GridSearching: Hidden_dim: 8, Learning Rate: 0.010000, L2 lambda: 0.100000 ---> Accuracy: 0.955224.\n",
      "GridSearching: Hidden_dim: 8, Learning Rate: 0.010000, L2 lambda: 0.300000 ---> Accuracy: 0.940299.\n",
      "GridSearching: Hidden_dim: 8, Learning Rate: 0.010000, L2 lambda: 0.500000 ---> Accuracy: 0.955224.\n",
      "GridSearching: Hidden_dim: 8, Learning Rate: 0.050000, L2 lambda: 0.100000 ---> Accuracy: 0.955224.\n",
      "GridSearching: Hidden_dim: 8, Learning Rate: 0.050000, L2 lambda: 0.300000 ---> Accuracy: 0.910448.\n",
      "GridSearching: Hidden_dim: 8, Learning Rate: 0.050000, L2 lambda: 0.500000 ---> Accuracy: 0.940299.\n",
      "GridSearching: Hidden_dim: 8, Learning Rate: 0.100000, L2 lambda: 0.100000 ---> Accuracy: 0.925373.\n",
      "GridSearching: Hidden_dim: 8, Learning Rate: 0.100000, L2 lambda: 0.300000 ---> Accuracy: 0.955224.\n",
      "GridSearching: Hidden_dim: 8, Learning Rate: 0.100000, L2 lambda: 0.500000 ---> Accuracy: 0.985075.\n",
      "GridSearching: Hidden_dim: 8, Learning Rate: 0.300000, L2 lambda: 0.100000 ---> Accuracy: 0.955224.\n",
      "GridSearching: Hidden_dim: 8, Learning Rate: 0.300000, L2 lambda: 0.300000 ---> Accuracy: 0.985075.\n",
      "GridSearching: Hidden_dim: 8, Learning Rate: 0.300000, L2 lambda: 0.500000 ---> Accuracy: 0.970149.\n",
      "GridSearching: Hidden_dim: 8, Learning Rate: 0.500000, L2 lambda: 0.100000 ---> Accuracy: 0.940299.\n",
      "GridSearching: Hidden_dim: 8, Learning Rate: 0.500000, L2 lambda: 0.300000 ---> Accuracy: 0.985075.\n",
      "GridSearching: Hidden_dim: 8, Learning Rate: 0.500000, L2 lambda: 0.500000 ---> Accuracy: 0.985075.\n",
      "GridSearching: Hidden_dim: 10, Learning Rate: 0.010000, L2 lambda: 0.100000 ---> Accuracy: 0.940299.\n",
      "GridSearching: Hidden_dim: 10, Learning Rate: 0.010000, L2 lambda: 0.300000 ---> Accuracy: 0.940299.\n",
      "GridSearching: Hidden_dim: 10, Learning Rate: 0.010000, L2 lambda: 0.500000 ---> Accuracy: 0.925373.\n",
      "GridSearching: Hidden_dim: 10, Learning Rate: 0.050000, L2 lambda: 0.100000 ---> Accuracy: 0.925373.\n",
      "GridSearching: Hidden_dim: 10, Learning Rate: 0.050000, L2 lambda: 0.300000 ---> Accuracy: 0.910448.\n",
      "GridSearching: Hidden_dim: 10, Learning Rate: 0.050000, L2 lambda: 0.500000 ---> Accuracy: 0.970149.\n",
      "GridSearching: Hidden_dim: 10, Learning Rate: 0.100000, L2 lambda: 0.100000 ---> Accuracy: 0.985075.\n",
      "GridSearching: Hidden_dim: 10, Learning Rate: 0.100000, L2 lambda: 0.300000 ---> Accuracy: 0.970149.\n",
      "GridSearching: Hidden_dim: 10, Learning Rate: 0.100000, L2 lambda: 0.500000 ---> Accuracy: 0.985075.\n",
      "GridSearching: Hidden_dim: 10, Learning Rate: 0.300000, L2 lambda: 0.100000 ---> Accuracy: 0.970149.\n",
      "GridSearching: Hidden_dim: 10, Learning Rate: 0.300000, L2 lambda: 0.300000 ---> Accuracy: 0.970149.\n",
      "GridSearching: Hidden_dim: 10, Learning Rate: 0.300000, L2 lambda: 0.500000 ---> Accuracy: 0.985075.\n",
      "GridSearching: Hidden_dim: 10, Learning Rate: 0.500000, L2 lambda: 0.100000 ---> Accuracy: 0.985075.\n",
      "GridSearching: Hidden_dim: 10, Learning Rate: 0.500000, L2 lambda: 0.300000 ---> Accuracy: 0.955224.\n",
      "GridSearching: Hidden_dim: 10, Learning Rate: 0.500000, L2 lambda: 0.500000 ---> Accuracy: 0.985075.\n"
     ]
    }
   ],
   "source": [
    "best_params = GridSearch(10000, trainloader, testloader, num_sample, input_dim, OUTPUT_DIM, HIDDEN_DIMS, LRS, L2_LAMBD)"
   ]
  },
  {
   "cell_type": "markdown",
   "metadata": {},
   "source": [
    "## 3.3 Store the best params"
   ]
  },
  {
   "cell_type": "code",
   "execution_count": 24,
   "metadata": {},
   "outputs": [],
   "source": [
    "# Store best_params\n",
    "import os\n",
    "import time\n",
    "import pickle\n",
    "\n",
    "path = './best_params.pk'\n",
    "while os.path.exists(path):\n",
    "    path = path[:-3] + '-' + '-'.join([str(i) for i in time.localtime()[:5]]) + '.pk'\n",
    "with open(path, 'wb') as pk:\n",
    "    pickle.dump(best_params, pk)"
   ]
  },
  {
   "cell_type": "markdown",
   "metadata": {},
   "source": [
    "## 3.4 Retrieve and Observation"
   ]
  },
  {
   "cell_type": "code",
   "execution_count": 25,
   "metadata": {},
   "outputs": [],
   "source": [
    "import pickle\n",
    "with open('./best_params.pk', 'rb') as pk:\n",
    "    best_params = pickle.load(pk)"
   ]
  },
  {
   "cell_type": "code",
   "execution_count": 35,
   "metadata": {},
   "outputs": [
    {
     "name": "stdout",
     "output_type": "stream",
     "text": [
      "Best Parameters:\n",
      "- hidden dim:\t 4\n",
      "- L2 lambd:\t 0.1\n",
      "- learning rate: 0.1\n"
     ]
    }
   ],
   "source": [
    "# Retrieve from best_params\n",
    "hidden_dim = best_params['hidden_dim']\n",
    "learning_rate = best_params['learning_rate']\n",
    "params = best_params['params']\n",
    "L2_lambd = best_params['L2_lambd']\n",
    "costs = best_params['costs']\n",
    "print(\"Best Parameters:\")\n",
    "print('- hidden dim:\\t', hidden_dim)\n",
    "print('- L2 lambd:\\t', L2_lambd)\n",
    "print('- learning rate:', learning_rate)"
   ]
  },
  {
   "cell_type": "code",
   "execution_count": 27,
   "metadata": {},
   "outputs": [],
   "source": [
    "# Build with best_params\n",
    "clf = NN(num_sample, input_dim, hidden_dim, OUTPUT_DIM, init_method='He')\n",
    "clf.params = params"
   ]
  },
  {
   "cell_type": "code",
   "execution_count": 28,
   "metadata": {},
   "outputs": [
    {
     "name": "stdout",
     "output_type": "stream",
     "text": [
      "Accuracy on Training set: 100.00%\n",
      "Accuracy on Training set: 98.51%\n"
     ]
    }
   ],
   "source": [
    "# Predicitons\n",
    "train_predictions = clf.predict(X_train)\n",
    "test_predictions = clf.predict(X_test)\n",
    "print(\"Accuracy on Training set: {:.2f}%\".format(100 * Accuracy(train_predictions, Y_train)))\n",
    "print(\"Accuracy on Training set: {:.2f}%\".format(100 * Accuracy(test_predictions, Y_test)))"
   ]
  },
  {
   "cell_type": "code",
   "execution_count": 29,
   "metadata": {},
   "outputs": [],
   "source": [
    "gaped_costs = costs[::100]"
   ]
  },
  {
   "cell_type": "code",
   "execution_count": 30,
   "metadata": {},
   "outputs": [
    {
     "data": {
      "image/png": "[encoded data removed]",
      "text/plain": [
       "<Figure size 432x288 with 1 Axes>"
      ]
     },
     "metadata": {
      "needs_background": "light"
     },
     "output_type": "display_data"
    }
   ],
   "source": [
    "plot_costs_epoch(gaped_costs)"
   ]
  },
  {
   "cell_type": "markdown",
   "metadata": {},
   "source": [
    "# 4 Conclusion"
   ]
  },
  {
   "attachments": {
    "image.png": {
     "image/png": "[encoded data removed]"
    }
   },
   "cell_type": "markdown",
   "metadata": {},
   "source": [
    "As displayed above, the result of this model appears to be great.\n",
    "\n",
    "To summarize my thoughts:\n",
    "\n",
    "1. How to deal with 30% lost/missing data?\n",
    "> Firstly separate different types of features, that's because different type of features should be dealt with different methods. \n",
    "> - For continuous data, mean value can only cause little displacement of feature distribution(naively thinking...);\n",
    "> - For ordered Categorical data, mode value represents the common regularity of the feature;\n",
    "> - For nominal data, filling with -1 means to add an extra possible value into the domain of the feature\n",
    "\n",
    "2. What to do with selecting hyperparameters?\n",
    "> Simulating and simplifying skleran-GridCVsearch, go through those posiibilities.\n",
    "\n",
    "3. Model Structure?\n",
    "![image.png](attachment:image.png)\n",
    " > For more, refer to module nn(nn.py)"
   ]
  }
 ],
 "metadata": {
  "kernelspec": {
   "display_name": "Python 3",
   "language": "python",
   "name": "python3"
  },
  "language_info": {
   "codemirror_mode": {
    "name": "ipython",
    "version": 3
   },
   "file_extension": ".py",
   "mimetype": "text/x-python",
   "name": "python",
   "nbconvert_exporter": "python",
   "pygments_lexer": "ipython3",
   "version": "3.7.3"
  }
 },
 "nbformat": 4,
 "nbformat_minor": 2
}
