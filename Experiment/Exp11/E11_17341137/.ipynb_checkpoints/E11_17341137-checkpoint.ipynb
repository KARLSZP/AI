{
 "cells": [
  {
   "cell_type": "markdown",
   "metadata": {},
   "source": [
    "# E11 Decision Tree"
   ]
  },
  {
   "cell_type": "markdown",
   "metadata": {},
   "source": [
    "\n",
    "This Report will explain the steps I've taken in this project, have fun in it~\n",
    "\n",
    "[1 Pre-processing](#1-Pre-processing)\n",
    "\n",
    "    |- 1.1 Load Training set, Test set.\n",
    "\n",
    "    |- 1.2 Deal with NaN and NULL value\n",
    "\n",
    "    |- 1.3 Convert continuous attr. to discrete ones\n",
    "\n",
    "    |- 1.4 Text attr. to int\n",
    "\n",
    "[2 Utilities](#2-Utilities)\n",
    "\n",
    "    |- 2.1 Entropy\n",
    "\n",
    "    |- 2.2 Information Gain\n",
    "\n",
    "    |- 2.3 Gini index\n",
    "\n",
    "    |- 2.4 chooseBestAttr\n",
    "\n",
    "    |- 2.5 splitData(Data, attr_num, attr_val)\n",
    "\n",
    "    |- 2.6 getMajority(Data)\n",
    "\n",
    "[3 Generate Decision Tree](#3-Generate-Decision-Tree)\n",
    "\n",
    "[4 Classifier](#4-Classifier)\n",
    "\n",
    "    |- 4.1 Classifier(DecisionTree, AttrSet, SampleData)\n",
    "\n",
    "    |- 4.2 Benchmarker(DecisionTree, AttrSet, testing_data, log)\n",
    "\n",
    "    |- 4.3 Benchmarking and plotting\n",
    "\n",
    "[5 Feed with 'Salary Data' and Model Storage](#5-Feed-with-'Salary-Data'-and-Model-Storage)\n",
    "\n",
    "    |- 5.1 Training on ID3 (Argmin on Gain_info)\n",
    "\n",
    "    |- 5.2 Training on CART (Argmin on Gini_index)\n",
    "\n",
    "    |- 5.3 Behavior on testing set\n",
    "\n",
    "    |- 5.4 Save the Decision Tree\n",
    "    \n",
    "---\n"
   ]
  },
  {
   "cell_type": "code",
   "execution_count": 1,
   "metadata": {},
   "outputs": [],
   "source": [
    "import os\n",
    "import numpy as np\n",
    "import pandas as pd\n",
    "import matplotlib.pyplot as plt\n",
    "%matplotlib inline"
   ]
  },
  {
   "cell_type": "markdown",
   "metadata": {},
   "source": [
    "# 1 Pre-processing\n",
    "[TOP](#E11-Decision-Tree)"
   ]
  },
  {
   "cell_type": "markdown",
   "metadata": {},
   "source": [
    "## 1.1 Load Training set, Test set."
   ]
  },
  {
   "cell_type": "code",
   "execution_count": 2,
   "metadata": {},
   "outputs": [],
   "source": [
    "# Load Training set, Test set.\n",
    "train_data_path = 'dataset/adult.data'\n",
    "test_data_path = 'dataset/adult.test'\n",
    "\n",
    "header = ['age', 'workclass', 'fnlwgt', 'education', 'education-num',\n",
    "          'marital-status', 'occupation', 'relationship', 'race', 'sex',\n",
    "          'capital-gain', 'capital-loss', 'hours-per-week', 'native-country', 'Salaries']\n",
    "\n",
    "train_data = pd.read_csv(train_data_path, names=header)\n",
    "test_data = pd.read_csv(test_data_path, names=header)\n",
    "test_data.drop(0, inplace=True)\n",
    "test_data.reset_index(drop=True, inplace=True)"
   ]
  },
  {
   "cell_type": "code",
   "execution_count": 3,
   "metadata": {
    "scrolled": true
   },
   "outputs": [
    {
     "data": {
      "text/html": [
       "<div>\n",
       "<style scoped>\n",
       "    .dataframe tbody tr th:only-of-type {\n",
       "        vertical-align: middle;\n",
       "    }\n",
       "\n",
       "    .dataframe tbody tr th {\n",
       "        vertical-align: top;\n",
       "    }\n",
       "\n",
       "    .dataframe thead th {\n",
       "        text-align: right;\n",
       "    }\n",
       "</style>\n",
       "<table border=\"1\" class=\"dataframe\">\n",
       "  <thead>\n",
       "    <tr style=\"text-align: right;\">\n",
       "      <th></th>\n",
       "      <th>age</th>\n",
       "      <th>workclass</th>\n",
       "      <th>fnlwgt</th>\n",
       "      <th>education</th>\n",
       "      <th>education-num</th>\n",
       "      <th>marital-status</th>\n",
       "      <th>occupation</th>\n",
       "      <th>relationship</th>\n",
       "      <th>race</th>\n",
       "      <th>sex</th>\n",
       "      <th>capital-gain</th>\n",
       "      <th>capital-loss</th>\n",
       "      <th>hours-per-week</th>\n",
       "      <th>native-country</th>\n",
       "      <th>Salaries</th>\n",
       "    </tr>\n",
       "  </thead>\n",
       "  <tbody>\n",
       "    <tr>\n",
       "      <td>0</td>\n",
       "      <td>39</td>\n",
       "      <td>State-gov</td>\n",
       "      <td>77516</td>\n",
       "      <td>Bachelors</td>\n",
       "      <td>13</td>\n",
       "      <td>Never-married</td>\n",
       "      <td>Adm-clerical</td>\n",
       "      <td>Not-in-family</td>\n",
       "      <td>White</td>\n",
       "      <td>Male</td>\n",
       "      <td>2174</td>\n",
       "      <td>0</td>\n",
       "      <td>40</td>\n",
       "      <td>United-States</td>\n",
       "      <td>&lt;=50K</td>\n",
       "    </tr>\n",
       "    <tr>\n",
       "      <td>1</td>\n",
       "      <td>50</td>\n",
       "      <td>Self-emp-not-inc</td>\n",
       "      <td>83311</td>\n",
       "      <td>Bachelors</td>\n",
       "      <td>13</td>\n",
       "      <td>Married-civ-spouse</td>\n",
       "      <td>Exec-managerial</td>\n",
       "      <td>Husband</td>\n",
       "      <td>White</td>\n",
       "      <td>Male</td>\n",
       "      <td>0</td>\n",
       "      <td>0</td>\n",
       "      <td>13</td>\n",
       "      <td>United-States</td>\n",
       "      <td>&lt;=50K</td>\n",
       "    </tr>\n",
       "    <tr>\n",
       "      <td>2</td>\n",
       "      <td>38</td>\n",
       "      <td>Private</td>\n",
       "      <td>215646</td>\n",
       "      <td>HS-grad</td>\n",
       "      <td>9</td>\n",
       "      <td>Divorced</td>\n",
       "      <td>Handlers-cleaners</td>\n",
       "      <td>Not-in-family</td>\n",
       "      <td>White</td>\n",
       "      <td>Male</td>\n",
       "      <td>0</td>\n",
       "      <td>0</td>\n",
       "      <td>40</td>\n",
       "      <td>United-States</td>\n",
       "      <td>&lt;=50K</td>\n",
       "    </tr>\n",
       "  </tbody>\n",
       "</table>\n",
       "</div>"
      ],
      "text/plain": [
       "   age          workclass  fnlwgt   education  education-num  \\\n",
       "0   39          State-gov   77516   Bachelors             13   \n",
       "1   50   Self-emp-not-inc   83311   Bachelors             13   \n",
       "2   38            Private  215646     HS-grad              9   \n",
       "\n",
       "        marital-status          occupation    relationship    race    sex  \\\n",
       "0        Never-married        Adm-clerical   Not-in-family   White   Male   \n",
       "1   Married-civ-spouse     Exec-managerial         Husband   White   Male   \n",
       "2             Divorced   Handlers-cleaners   Not-in-family   White   Male   \n",
       "\n",
       "   capital-gain  capital-loss  hours-per-week  native-country Salaries  \n",
       "0          2174             0              40   United-States    <=50K  \n",
       "1             0             0              13   United-States    <=50K  \n",
       "2             0             0              40   United-States    <=50K  "
      ]
     },
     "metadata": {},
     "output_type": "display_data"
    },
    {
     "data": {
      "text/html": [
       "<div>\n",
       "<style scoped>\n",
       "    .dataframe tbody tr th:only-of-type {\n",
       "        vertical-align: middle;\n",
       "    }\n",
       "\n",
       "    .dataframe tbody tr th {\n",
       "        vertical-align: top;\n",
       "    }\n",
       "\n",
       "    .dataframe thead th {\n",
       "        text-align: right;\n",
       "    }\n",
       "</style>\n",
       "<table border=\"1\" class=\"dataframe\">\n",
       "  <thead>\n",
       "    <tr style=\"text-align: right;\">\n",
       "      <th></th>\n",
       "      <th>age</th>\n",
       "      <th>workclass</th>\n",
       "      <th>fnlwgt</th>\n",
       "      <th>education</th>\n",
       "      <th>education-num</th>\n",
       "      <th>marital-status</th>\n",
       "      <th>occupation</th>\n",
       "      <th>relationship</th>\n",
       "      <th>race</th>\n",
       "      <th>sex</th>\n",
       "      <th>capital-gain</th>\n",
       "      <th>capital-loss</th>\n",
       "      <th>hours-per-week</th>\n",
       "      <th>native-country</th>\n",
       "      <th>Salaries</th>\n",
       "    </tr>\n",
       "  </thead>\n",
       "  <tbody>\n",
       "    <tr>\n",
       "      <td>0</td>\n",
       "      <td>25</td>\n",
       "      <td>Private</td>\n",
       "      <td>226802.0</td>\n",
       "      <td>11th</td>\n",
       "      <td>7.0</td>\n",
       "      <td>Never-married</td>\n",
       "      <td>Machine-op-inspct</td>\n",
       "      <td>Own-child</td>\n",
       "      <td>Black</td>\n",
       "      <td>Male</td>\n",
       "      <td>0.0</td>\n",
       "      <td>0.0</td>\n",
       "      <td>40.0</td>\n",
       "      <td>United-States</td>\n",
       "      <td>&lt;=50K.</td>\n",
       "    </tr>\n",
       "    <tr>\n",
       "      <td>1</td>\n",
       "      <td>38</td>\n",
       "      <td>Private</td>\n",
       "      <td>89814.0</td>\n",
       "      <td>HS-grad</td>\n",
       "      <td>9.0</td>\n",
       "      <td>Married-civ-spouse</td>\n",
       "      <td>Farming-fishing</td>\n",
       "      <td>Husband</td>\n",
       "      <td>White</td>\n",
       "      <td>Male</td>\n",
       "      <td>0.0</td>\n",
       "      <td>0.0</td>\n",
       "      <td>50.0</td>\n",
       "      <td>United-States</td>\n",
       "      <td>&lt;=50K.</td>\n",
       "    </tr>\n",
       "    <tr>\n",
       "      <td>2</td>\n",
       "      <td>28</td>\n",
       "      <td>Local-gov</td>\n",
       "      <td>336951.0</td>\n",
       "      <td>Assoc-acdm</td>\n",
       "      <td>12.0</td>\n",
       "      <td>Married-civ-spouse</td>\n",
       "      <td>Protective-serv</td>\n",
       "      <td>Husband</td>\n",
       "      <td>White</td>\n",
       "      <td>Male</td>\n",
       "      <td>0.0</td>\n",
       "      <td>0.0</td>\n",
       "      <td>40.0</td>\n",
       "      <td>United-States</td>\n",
       "      <td>&gt;50K.</td>\n",
       "    </tr>\n",
       "  </tbody>\n",
       "</table>\n",
       "</div>"
      ],
      "text/plain": [
       "  age   workclass    fnlwgt    education  education-num       marital-status  \\\n",
       "0  25     Private  226802.0         11th            7.0        Never-married   \n",
       "1  38     Private   89814.0      HS-grad            9.0   Married-civ-spouse   \n",
       "2  28   Local-gov  336951.0   Assoc-acdm           12.0   Married-civ-spouse   \n",
       "\n",
       "           occupation relationship    race    sex  capital-gain  capital-loss  \\\n",
       "0   Machine-op-inspct    Own-child   Black   Male           0.0           0.0   \n",
       "1     Farming-fishing      Husband   White   Male           0.0           0.0   \n",
       "2     Protective-serv      Husband   White   Male           0.0           0.0   \n",
       "\n",
       "   hours-per-week  native-country Salaries  \n",
       "0            40.0   United-States   <=50K.  \n",
       "1            50.0   United-States   <=50K.  \n",
       "2            40.0   United-States    >50K.  "
      ]
     },
     "metadata": {},
     "output_type": "display_data"
    }
   ],
   "source": [
    "display(train_data.head(3))\n",
    "display(test_data.head(3))"
   ]
  },
  {
   "cell_type": "markdown",
   "metadata": {},
   "source": [
    "## 1.2 Deal with NaN and NULL value"
   ]
  },
  {
   "cell_type": "code",
   "execution_count": 4,
   "metadata": {
    "scrolled": true
   },
   "outputs": [
    {
     "data": {
      "text/plain": [
       "age               0\n",
       "workclass         0\n",
       "fnlwgt            0\n",
       "education         0\n",
       "education-num     0\n",
       "marital-status    0\n",
       "occupation        0\n",
       "relationship      0\n",
       "race              0\n",
       "sex               0\n",
       "capital-gain      0\n",
       "capital-loss      0\n",
       "hours-per-week    0\n",
       "native-country    0\n",
       "Salaries          0\n",
       "dtype: int64"
      ]
     },
     "metadata": {},
     "output_type": "display_data"
    }
   ],
   "source": [
    "display(train_data.isna().sum())"
   ]
  },
  {
   "cell_type": "markdown",
   "metadata": {},
   "source": [
    "Surpisingly, this csv file use '?' instead of a NaN or Null.\n",
    "\n",
    "Find out '?' to locate all NaNs.\n",
    "\n",
    "**A big trap here since every text-like value begin with an ' '...**"
   ]
  },
  {
   "cell_type": "code",
   "execution_count": 5,
   "metadata": {},
   "outputs": [],
   "source": [
    "train_data.replace(' ?', np.nan, inplace=True)"
   ]
  },
  {
   "cell_type": "code",
   "execution_count": 6,
   "metadata": {},
   "outputs": [
    {
     "data": {
      "text/plain": [
       "age                  0\n",
       "workclass         1836\n",
       "fnlwgt               0\n",
       "education            0\n",
       "education-num        0\n",
       "marital-status       0\n",
       "occupation        1843\n",
       "relationship         0\n",
       "race                 0\n",
       "sex                  0\n",
       "capital-gain         0\n",
       "capital-loss         0\n",
       "hours-per-week       0\n",
       "native-country     583\n",
       "Salaries             0\n",
       "dtype: int64"
      ]
     },
     "metadata": {},
     "output_type": "display_data"
    }
   ],
   "source": [
    "display(train_data.isna().sum())"
   ]
  },
  {
   "cell_type": "markdown",
   "metadata": {},
   "source": [
    "Now, we can observe the data and find:\n",
    "\n",
    "For workclass, occupation and native-country: Use the most common type to fill nan."
   ]
  },
  {
   "cell_type": "code",
   "execution_count": 7,
   "metadata": {},
   "outputs": [],
   "source": [
    "train_data.fillna(train_data.mode().iloc[0], inplace=True)"
   ]
  },
  {
   "cell_type": "code",
   "execution_count": 8,
   "metadata": {},
   "outputs": [
    {
     "data": {
      "text/plain": [
       "age               0\n",
       "workclass         0\n",
       "fnlwgt            0\n",
       "education         0\n",
       "education-num     0\n",
       "marital-status    0\n",
       "occupation        0\n",
       "relationship      0\n",
       "race              0\n",
       "sex               0\n",
       "capital-gain      0\n",
       "capital-loss      0\n",
       "hours-per-week    0\n",
       "native-country    0\n",
       "Salaries          0\n",
       "dtype: int64"
      ]
     },
     "metadata": {},
     "output_type": "display_data"
    }
   ],
   "source": [
    "display(train_data.isna().sum())"
   ]
  },
  {
   "cell_type": "markdown",
   "metadata": {},
   "source": [
    "Then, repeat it on test set."
   ]
  },
  {
   "cell_type": "code",
   "execution_count": 9,
   "metadata": {},
   "outputs": [
    {
     "data": {
      "text/plain": [
       "age                 0\n",
       "workclass         963\n",
       "fnlwgt              0\n",
       "education           0\n",
       "education-num       0\n",
       "marital-status      0\n",
       "occupation        966\n",
       "relationship        0\n",
       "race                0\n",
       "sex                 0\n",
       "capital-gain        0\n",
       "capital-loss        0\n",
       "hours-per-week      0\n",
       "native-country    274\n",
       "Salaries            0\n",
       "dtype: int64"
      ]
     },
     "metadata": {},
     "output_type": "display_data"
    }
   ],
   "source": [
    "test_data.replace(' ?', np.nan, inplace=True)\n",
    "display(test_data.isna().sum())"
   ]
  },
  {
   "cell_type": "code",
   "execution_count": 10,
   "metadata": {},
   "outputs": [
    {
     "data": {
      "text/plain": [
       "age               0\n",
       "workclass         0\n",
       "fnlwgt            0\n",
       "education         0\n",
       "education-num     0\n",
       "marital-status    0\n",
       "occupation        0\n",
       "relationship      0\n",
       "race              0\n",
       "sex               0\n",
       "capital-gain      0\n",
       "capital-loss      0\n",
       "hours-per-week    0\n",
       "native-country    0\n",
       "Salaries          0\n",
       "dtype: int64"
      ]
     },
     "metadata": {},
     "output_type": "display_data"
    }
   ],
   "source": [
    "test_data.fillna(test_data.mode().iloc[0], inplace=True)\n",
    "display(test_data.isna().sum())"
   ]
  },
  {
   "cell_type": "markdown",
   "metadata": {},
   "source": [
    "Done."
   ]
  },
  {
   "cell_type": "markdown",
   "metadata": {},
   "source": [
    "## 1.3 Convert continuous attr. to discrete ones"
   ]
  },
  {
   "cell_type": "code",
   "execution_count": 11,
   "metadata": {},
   "outputs": [
    {
     "data": {
      "text/html": [
       "<div>\n",
       "<style scoped>\n",
       "    .dataframe tbody tr th:only-of-type {\n",
       "        vertical-align: middle;\n",
       "    }\n",
       "\n",
       "    .dataframe tbody tr th {\n",
       "        vertical-align: top;\n",
       "    }\n",
       "\n",
       "    .dataframe thead th {\n",
       "        text-align: right;\n",
       "    }\n",
       "</style>\n",
       "<table border=\"1\" class=\"dataframe\">\n",
       "  <thead>\n",
       "    <tr style=\"text-align: right;\">\n",
       "      <th></th>\n",
       "      <th>age</th>\n",
       "      <th>fnlwgt</th>\n",
       "      <th>education-num</th>\n",
       "      <th>capital-gain</th>\n",
       "      <th>capital-loss</th>\n",
       "      <th>hours-per-week</th>\n",
       "    </tr>\n",
       "  </thead>\n",
       "  <tbody>\n",
       "    <tr>\n",
       "      <td>0</td>\n",
       "      <td>39</td>\n",
       "      <td>77516</td>\n",
       "      <td>13</td>\n",
       "      <td>2174</td>\n",
       "      <td>0</td>\n",
       "      <td>40</td>\n",
       "    </tr>\n",
       "    <tr>\n",
       "      <td>1</td>\n",
       "      <td>50</td>\n",
       "      <td>83311</td>\n",
       "      <td>13</td>\n",
       "      <td>0</td>\n",
       "      <td>0</td>\n",
       "      <td>13</td>\n",
       "    </tr>\n",
       "    <tr>\n",
       "      <td>2</td>\n",
       "      <td>38</td>\n",
       "      <td>215646</td>\n",
       "      <td>9</td>\n",
       "      <td>0</td>\n",
       "      <td>0</td>\n",
       "      <td>40</td>\n",
       "    </tr>\n",
       "    <tr>\n",
       "      <td>3</td>\n",
       "      <td>53</td>\n",
       "      <td>234721</td>\n",
       "      <td>7</td>\n",
       "      <td>0</td>\n",
       "      <td>0</td>\n",
       "      <td>40</td>\n",
       "    </tr>\n",
       "    <tr>\n",
       "      <td>4</td>\n",
       "      <td>28</td>\n",
       "      <td>338409</td>\n",
       "      <td>13</td>\n",
       "      <td>0</td>\n",
       "      <td>0</td>\n",
       "      <td>40</td>\n",
       "    </tr>\n",
       "    <tr>\n",
       "      <td>...</td>\n",
       "      <td>...</td>\n",
       "      <td>...</td>\n",
       "      <td>...</td>\n",
       "      <td>...</td>\n",
       "      <td>...</td>\n",
       "      <td>...</td>\n",
       "    </tr>\n",
       "    <tr>\n",
       "      <td>32556</td>\n",
       "      <td>27</td>\n",
       "      <td>257302</td>\n",
       "      <td>12</td>\n",
       "      <td>0</td>\n",
       "      <td>0</td>\n",
       "      <td>38</td>\n",
       "    </tr>\n",
       "    <tr>\n",
       "      <td>32557</td>\n",
       "      <td>40</td>\n",
       "      <td>154374</td>\n",
       "      <td>9</td>\n",
       "      <td>0</td>\n",
       "      <td>0</td>\n",
       "      <td>40</td>\n",
       "    </tr>\n",
       "    <tr>\n",
       "      <td>32558</td>\n",
       "      <td>58</td>\n",
       "      <td>151910</td>\n",
       "      <td>9</td>\n",
       "      <td>0</td>\n",
       "      <td>0</td>\n",
       "      <td>40</td>\n",
       "    </tr>\n",
       "    <tr>\n",
       "      <td>32559</td>\n",
       "      <td>22</td>\n",
       "      <td>201490</td>\n",
       "      <td>9</td>\n",
       "      <td>0</td>\n",
       "      <td>0</td>\n",
       "      <td>20</td>\n",
       "    </tr>\n",
       "    <tr>\n",
       "      <td>32560</td>\n",
       "      <td>52</td>\n",
       "      <td>287927</td>\n",
       "      <td>9</td>\n",
       "      <td>15024</td>\n",
       "      <td>0</td>\n",
       "      <td>40</td>\n",
       "    </tr>\n",
       "  </tbody>\n",
       "</table>\n",
       "<p>32561 rows × 6 columns</p>\n",
       "</div>"
      ],
      "text/plain": [
       "       age  fnlwgt  education-num  capital-gain  capital-loss  hours-per-week\n",
       "0       39   77516             13          2174             0              40\n",
       "1       50   83311             13             0             0              13\n",
       "2       38  215646              9             0             0              40\n",
       "3       53  234721              7             0             0              40\n",
       "4       28  338409             13             0             0              40\n",
       "...    ...     ...            ...           ...           ...             ...\n",
       "32556   27  257302             12             0             0              38\n",
       "32557   40  154374              9             0             0              40\n",
       "32558   58  151910              9             0             0              40\n",
       "32559   22  201490              9             0             0              20\n",
       "32560   52  287927              9         15024             0              40\n",
       "\n",
       "[32561 rows x 6 columns]"
      ]
     },
     "metadata": {},
     "output_type": "display_data"
    }
   ],
   "source": [
    "continuous_cols = ['age', 'fnlwgt', 'education-num', 'capital-gain', 'capital-loss', 'hours-per-week']\n",
    "display(train_data[continuous_cols])"
   ]
  },
  {
   "cell_type": "markdown",
   "metadata": {},
   "source": [
    "To help split the data, plot and take a glance."
   ]
  },
  {
   "cell_type": "code",
   "execution_count": 12,
   "metadata": {},
   "outputs": [
    {
     "data": {
      "text/plain": [
       "<matplotlib.axes._subplots.AxesSubplot at 0x22217a276d8>"
      ]
     },
     "execution_count": 12,
     "metadata": {},
     "output_type": "execute_result"
    },
    {
     "data": {
      "image/png": "[encoded data removed]",
      "text/plain": [
       "<Figure size 864x648 with 6 Axes>"
      ]
     },
     "metadata": {
      "needs_background": "light"
     },
     "output_type": "display_data"
    }
   ],
   "source": [
    "import seaborn as sns\n",
    "f, axes = plt.subplots(3,2, figsize=(12,9))\n",
    "sns.kdeplot(train_data['age'], shade=True, ax=axes[0, 0])\n",
    "sns.kdeplot(train_data['fnlwgt'], shade=True, ax=axes[0, 1])\n",
    "sns.kdeplot(train_data['education-num'], shade=True, ax=axes[1, 0])\n",
    "sns.kdeplot(train_data['hours-per-week'], shade=True, ax=axes[1, 1])\n",
    "sns.kdeplot(train_data['capital-gain'], shade=True, ax=axes[2, 0])\n",
    "sns.kdeplot(train_data['capital-loss'], shade=True, ax=axes[2, 1])"
   ]
  },
  {
   "cell_type": "markdown",
   "metadata": {},
   "source": [
    "These features behave normally so I simply divide them each into 3 sections."
   ]
  },
  {
   "cell_type": "code",
   "execution_count": 13,
   "metadata": {},
   "outputs": [
    {
     "name": "stdout",
     "output_type": "stream",
     "text": [
      "Col: age\n",
      "Sections: [0 31] [32 44] [45 91]\n",
      "Col: fnlwgt\n",
      "Sections: [0 141058] [141059 210474] [210475 1484706]\n",
      "Col: education-num\n",
      "Sections: [0 9] [10 10] [11 17]\n",
      "Col: capital-gain\n",
      "Sections: [0 0] [1 0] [1 100000]\n",
      "Col: capital-loss\n",
      "Sections: [0 0] [1 0] [1 4357]\n",
      "Col: hours-per-week\n",
      "Sections: [0 40] [41 40] [41 100]\n"
     ]
    }
   ],
   "source": [
    "pos1 = int(len(train_data)/3)\n",
    "pos2 = 2 * pos1\n",
    "intervals = {}\n",
    "\n",
    "for col in continuous_cols:\n",
    "    print('Col:', col)\n",
    "    i1 = sorted(train_data[col])[pos1]\n",
    "    i2 = sorted(train_data[col])[pos2]\n",
    "    intervals[col] = (range(0, i1+1), range(i1+1, i2+1), range(i2+1, sorted(train_data[col])[len(train_data)-1]+1))\n",
    "    print('Sections: [0 %d] [%d %d] [%d %d]' % (i1, i1+1, i2, i2+1, sorted(train_data[col])[len(train_data)-1]+1))"
   ]
  },
  {
   "cell_type": "markdown",
   "metadata": {},
   "source": [
    "## 1.4 Text attr. to int"
   ]
  },
  {
   "cell_type": "code",
   "execution_count": 14,
   "metadata": {},
   "outputs": [],
   "source": [
    "rev_intervals = {}\n",
    "for k, v in intervals.items():\n",
    "    tmp = {}\n",
    "    for idx, r in enumerate(v):\n",
    "        for i in r:\n",
    "            tmp[i] = idx\n",
    "    rev_intervals[k] = tmp\n",
    "\n",
    "dsp_dict = {\n",
    "    1: ['Private', 'Self-emp-not-inc', 'Self-emp-inc', 'Federal-gov', 'Local-gov', 'State-gov', 'Without-pay', 'Never-worked'],\n",
    "    3: ['Bachelors', 'Some-college', '11th', 'HS-grad', 'Prof-school', 'Assoc-acdm', 'Assoc-voc', '9th', '7th-8th', '12th', 'Masters', '1st-4th', '10th', 'Doctorate', '5th-6th', 'Preschool'],\n",
    "    5: ['Married-civ-spouse', 'Divorced', 'Never-married', 'Separated', 'Widowed', 'Married-spouse-absent', 'Married-AF-spouse'],\n",
    "    6: ['Tech-support', 'Craft-repair', 'Other-service', 'Sales', 'Exec-managerial', 'Prof-specialty', 'Handlers-cleaners', 'Machine-op-inspct', 'Adm-clerical', 'Farming-fishing', 'Transport-moving', 'Priv-house-serv', 'Protective-serv', 'Armed-Forces'],\n",
    "    7: ['Wife', 'Own-child', 'Husband', 'Not-in-family', 'Other-relative', 'Unmarried'],\n",
    "    8: ['White', 'Asian-Pac-Islander', 'Amer-Indian-Eskimo', 'Other', 'Black'],\n",
    "    9: ['Female', 'Male'],\n",
    "    13: ['United-States', 'Cambodia', 'England', 'Puerto-Rico', 'Canada', 'Germany', 'Outlying-US(Guam-USVI-etc)', 'India', 'Japan', 'Greece', 'South', 'China', 'Cuba', 'Iran', 'Honduras', 'Philippines', 'Italy', 'Poland', 'Jamaica', 'Vietnam', 'Mexico', 'Portugal', 'Ireland', 'France', 'Dominican-Republic', 'Laos', 'Ecuador', 'Taiwan', 'Haiti', 'Columbia', 'Hungary', 'Guatemala', 'Nicaragua', 'Scotland', 'Thailand', 'Yugoslavia', 'El-Salvador', 'Trinadad&Tobago', 'Peru', 'Hong', 'Holand-Netherlands']\n",
    "}\n",
    "\n",
    "def dsp2numlist(idx):\n",
    "    return list(range(len(dsp_dict[idx])))\n",
    "\n",
    "AttrSet = [\n",
    "    (0, [0,1,2], 'age'),\n",
    "    (1, dsp2numlist(1), 'workclass'),\n",
    "    (2, [0,1,2], 'fnlwgt'),\n",
    "    (3, dsp2numlist(3), 'education'),\n",
    "    (4, [0,1,2], 'education-num'),\n",
    "    (5, dsp2numlist(5), 'marital-status'),\n",
    "    (6, dsp2numlist(6), 'occupation'),\n",
    "    (7, dsp2numlist(7), 'relationship'),\n",
    "    (8, dsp2numlist(8), 'race'),\n",
    "    (9, dsp2numlist(9), 'sex'),\n",
    "    (10,[0,1,2], 'capital-gain'),\n",
    "    (11,[0,1,2], 'capital-loss'),\n",
    "    (12,[0,1,2], 'hours-per-week'),\n",
    "    (13,dsp2numlist(13),'native-country')\n",
    "]\n"
   ]
  },
  {
   "cell_type": "code",
   "execution_count": 15,
   "metadata": {
    "scrolled": true
   },
   "outputs": [],
   "source": [
    "train_label = [1 if val == ' >50K' else 0 for val in train_data['Salaries']]\n",
    "train_input = []\n",
    "\n",
    "for idx in range(len(train_data)):\n",
    "    tmp = [dsp_dict[i].index(val.strip()) if int(i) in dsp_dict.keys()\n",
    "           else rev_intervals[train_data.columns[i]].get(val, 2) for i, val in enumerate(train_data.iloc[idx][:-1])]\n",
    "    train_input.append(tmp)\n",
    "\n",
    "test_label = [1 if val == ' >50K.' else 0 for val in test_data['Salaries']]\n",
    "test_input = []\n",
    "\n",
    "for idx in range(len(test_data)):\n",
    "    tmp = [dsp_dict[i].index(val.strip()) if int(i) in dsp_dict.keys()\n",
    "           else rev_intervals[test_data.columns[i]].get(val, 2) for i, val in enumerate(test_data.iloc[idx][:-1])]\n",
    "    test_input.append(tmp)"
   ]
  },
  {
   "cell_type": "code",
   "execution_count": 16,
   "metadata": {},
   "outputs": [
    {
     "name": "stdout",
     "output_type": "stream",
     "text": [
      "32561\n",
      "32561\n",
      "[[1, 5, 0, 0, 2, 2, 8, 3, 0, 1, 2, 0, 0, 0], [2, 1, 0, 0, 2, 0, 4, 2, 0, 1, 0, 0, 0, 0]]\n",
      "16281\n",
      "16281\n",
      "[[2, 0, 2, 2, 0, 2, 7, 1, 4, 1, 0, 0, 0, 0], [2, 0, 0, 3, 0, 0, 9, 2, 0, 1, 0, 0, 2, 0]]\n"
     ]
    }
   ],
   "source": [
    "print(len(train_label))\n",
    "print(len(train_input))\n",
    "print(train_input[:2])\n",
    "\n",
    "print(len(test_label))\n",
    "print(len(test_input))\n",
    "print(test_input[:2])"
   ]
  },
  {
   "cell_type": "markdown",
   "metadata": {},
   "source": [
    "---\n",
    "\n",
    "# 2 Utilities\n",
    "\n",
    "[TOP](#E11-Decision-Tree)"
   ]
  },
  {
   "cell_type": "markdown",
   "metadata": {},
   "source": [
    "## 2.1 Entropy\n",
    "\n",
    "$Ent(D) = -\\sum\\limits_{k=1}^{|Y|}p_klog_2p_k$\n",
    "\n",
    "In this case, $|Y| = 2$ for $y_1 = '\\geq50K'$ and $y_2 = '<50K'$"
   ]
  },
  {
   "cell_type": "markdown",
   "metadata": {},
   "source": [
    "**Function: Entropy(Data)**\n",
    "\n",
    "**parameters:**\n",
    "- Data: 2-d matrix, Current data set.\n",
    "\n",
    "**return:**\n",
    "- Information entropy of current data set."
   ]
  },
  {
   "cell_type": "code",
   "execution_count": 17,
   "metadata": {},
   "outputs": [],
   "source": [
    "def Entropy(Data):\n",
    "    # Labels were stored at tail of the data set.\n",
    "    labels = [sample[-1] for sample in Data]\n",
    "    # Use set() to remove duplicates\n",
    "    types = set(labels)\n",
    "    # To calculate Pr by Pr = sample_num / total_num\n",
    "    types_counts = [labels.count(type) for type in types]\n",
    "    probs = [prob/len(Data) for prob in types_counts]\n",
    "    # Calculate final result\n",
    "    return -np.sum(probs*np.log2(probs))"
   ]
  },
  {
   "cell_type": "markdown",
   "metadata": {},
   "source": [
    "## 2.2 Information Gain\n",
    "\n",
    "$\\operatorname{Gain}(D, a)=\\operatorname{Ent}(D)-\\sum\\limits_{v=1}^{V} \\dfrac{\\left|D^{v}\\right|}{|D|} \\operatorname{Ent}\\left(D^{v}\\right)$\n",
    "\n",
    "Ent(D) has been defined above."
   ]
  },
  {
   "cell_type": "markdown",
   "metadata": {},
   "source": [
    "**Function: Gain(Data, attr)**\n",
    "\n",
    "**parameters:**\n",
    "- Data: 2-d matrix, Current data set.\n",
    "- attr: (attr_num(int), attr_vals(list), attr_name(str)), Current attribute to calculate information gain.\n",
    "\n",
    "**return:**\n",
    "- Information gain by splitting the data set with attr."
   ]
  },
  {
   "cell_type": "code",
   "execution_count": 18,
   "metadata": {},
   "outputs": [],
   "source": [
    "def Gain(Data, attr):\n",
    "    # Get Entropy of current data\n",
    "    entropy = Entropy(Data)\n",
    "    # Get the position of current attribute\n",
    "    attr_num = attr[0]\n",
    "    # Get all possible values for current attribute\n",
    "    attr_vals = attr[1]\n",
    "    # Calculate weights and entropy for each branches\n",
    "    entropys = [0 for val in attr_vals]\n",
    "    weights = [0 for val in attr_vals]\n",
    "    # Enumerates attr_vals\n",
    "    for idx, val in enumerate(attr_vals):\n",
    "        # for each value, general an subset to\n",
    "        # help calculate its entropy.\n",
    "        sub_data = []\n",
    "        for sample in Data:\n",
    "            # when the value on attr_num of a sample\n",
    "            # equals to val, this sample should be\n",
    "            # a member of set 'D^v'\n",
    "            if sample[attr_num] == val:\n",
    "                sub_data.append(sample)\n",
    "                weights[idx] += 1\n",
    "        entropys[idx] = Entropy(sub_data)\n",
    "        weights[idx] /= len(Data)\n",
    "    # Calculate the final result\n",
    "    return entropy - np.sum(np.multiply(weights, entropys))"
   ]
  },
  {
   "cell_type": "markdown",
   "metadata": {},
   "source": [
    "## 2.3 Gini index\n",
    "\n",
    "$$\n",
    "\\begin{aligned} \\operatorname{Gini}(D) &=\\sum_{k=1}^{|\\mathcal{Y}|} \\sum_{k^{\\prime} \\neq k} p_{k} p_{k^{\\prime}} \\\\ &=1-\\sum_{k=1}^{|\\mathcal{Y}|} p_{k}^{2} \\\\\n",
    "\\operatorname{Gini} \\operatorname{index}(D, a)&=\\sum_{v=1}^{V} \\frac{\\left|D^{v}\\right|}{|D|} \\operatorname{Gini}\\left(D^{v}\\right)\n",
    "\\end{aligned}\n",
    "$$\n",
    "\n",
    "For further study, I calculate gini index in order to see the difference between id3 and CART decision Tree."
   ]
  },
  {
   "cell_type": "markdown",
   "metadata": {},
   "source": [
    "**Function: Gini(Data)**\n",
    "\n",
    "**parameters:**\n",
    "- Data: 2-d matrix, Current data set.\n",
    "\n",
    "**return:**\n",
    "- Gini value of current data set."
   ]
  },
  {
   "cell_type": "code",
   "execution_count": 19,
   "metadata": {},
   "outputs": [],
   "source": [
    "def Gini(Data):\n",
    "    # Labels were stored at tail of the data set.\n",
    "    labels = [sample[-1] for sample in Data]\n",
    "    # Use set() to remove duplicates\n",
    "    types = set(labels)\n",
    "    # To calculate Pr by Pr = sample_num / total_num\n",
    "    types_counts = [labels.count(type) for type in types]\n",
    "    probs = [prob/len(Data) for prob in types_counts]\n",
    "    # Calculate final result\n",
    "    return 1 - np.sum(np.power(probs, 2))"
   ]
  },
  {
   "cell_type": "markdown",
   "metadata": {},
   "source": [
    "**Function: Gini_index(Data, attr)**\n",
    "\n",
    "**parameters:**\n",
    "- Data: 2-d matrix, Current data set.\n",
    "- attr: (attr_num(int), attr_vals(list), attr_name(str)), Current attribute to calculate Gini index.\n",
    "\n",
    "**return:**\n",
    "- Gini index by splitting the data set with attr."
   ]
  },
  {
   "cell_type": "code",
   "execution_count": 20,
   "metadata": {},
   "outputs": [],
   "source": [
    "    def Gini_index(Data, attr):\n",
    "        # Get Gini value of current data\n",
    "        gini = Gini(Data)\n",
    "        # Get the position of current attribute\n",
    "        attr_num = attr[0]\n",
    "        # Get all possible values for current attribute\n",
    "        attr_vals = attr[1]\n",
    "        # Calculate weights and entropy for each branches\n",
    "        ginis = [0 for val in attr_vals]\n",
    "        weights = [0 for val in attr_vals]\n",
    "        # Enumerates attr_vals\n",
    "        for idx, val in enumerate(attr_vals):\n",
    "            # for each value, general an subset to\n",
    "            # help calculate its entropy.\n",
    "            sub_data = []\n",
    "            for sample in Data:\n",
    "                # when the value on attr_num of a sample\n",
    "                # equals to val, this sample should be\n",
    "                # a member of set 'D^v'\n",
    "                if sample[attr_num] == val:\n",
    "                    sub_data.append(sample)\n",
    "                    weights[idx] += 1\n",
    "            ginis[idx] = Gini(sub_data)\n",
    "            weights[idx] /= len(Data)\n",
    "        # Calculate the final result\n",
    "        return np.sum(np.multiply(weights, ginis))"
   ]
  },
  {
   "cell_type": "markdown",
   "metadata": {},
   "source": [
    "## 2.4 chooseBestAttr\n",
    "\n",
    "It's quite an important step, by Information Gain or Gini index, to automatically find best attribute to split the data set by."
   ]
  },
  {
   "cell_type": "markdown",
   "metadata": {},
   "source": [
    "**Function: chooseBestAttr(Data, Attrset)**\n",
    "\n",
    "**parameters:**\n",
    "- Data: 2-d matrix, Current data set.\n",
    "- Attrset: list[attr_tuple], Current attributes set.\n",
    "\n",
    "**return:**\n",
    "- Chosen best attribute."
   ]
  },
  {
   "cell_type": "code",
   "execution_count": 21,
   "metadata": {},
   "outputs": [],
   "source": [
    "def chooseBestAttr(Data, Attrset, method='ID3'):\n",
    "    # Initialization\n",
    "    # Mind that for:\n",
    "    # Gain info.: find arg_max, init to -1\n",
    "    # Gini index: find arg_min, init to infinity.\n",
    "    best_attr = Attrset[0]\n",
    "    best_gain = -1\n",
    "    best_gini = np.Inf\n",
    "    # When 'ID3' is assigned or using default method\n",
    "    if method == 'ID3':\n",
    "        for attr_tuple in Attrset:\n",
    "            gain = Gain(Data, attr_tuple)\n",
    "            best_attr = attr_tuple if gain > best_gain else best_attr\n",
    "            best_gain = gain       if gain > best_gain else best_gain\n",
    "        return best_attr\n",
    "    # When 'CART' is assigned\n",
    "    elif method == 'CART':\n",
    "        for attr_tuple in Attrset:\n",
    "            gini = Gini_index(Data, attr_tuple)\n",
    "            best_attr = attr_tuple if gini < best_gini else best_attr\n",
    "            best_gini = gini       if gini < best_gini else best_gini\n",
    "        return best_attr\n",
    "    else:\n",
    "        print('Unknown method!')\n",
    "        return None"
   ]
  },
  {
   "cell_type": "markdown",
   "metadata": {},
   "source": [
    "## 2.5 splitData(Data, attr_num, attr_val)\n",
    "\n",
    "When the best attribute is chosen, it's time to split data."
   ]
  },
  {
   "cell_type": "markdown",
   "metadata": {},
   "source": [
    "**Function: splitData(Data, attr_num, attr_val)**\n",
    "\n",
    "**parameters:**\n",
    "- Data: 2-d matrix, Current data set.\n",
    "- attr_num: int, Current attributes number.\n",
    "- attr_val: int, one value of the chosen attribute.\n",
    "\n",
    "**return:**\n",
    "- Splitted sub data set."
   ]
  },
  {
   "cell_type": "code",
   "execution_count": 22,
   "metadata": {},
   "outputs": [],
   "source": [
    "def splitData(Data, attr_num, attr_val):\n",
    "    # Initialization\n",
    "    sub_data = []\n",
    "    # Enumerate Data\n",
    "    for sample in Data:\n",
    "        # When the value of sample equals to attr_val,\n",
    "        # add the sample to sub_data\n",
    "        if sample[attr_num] == attr_val:\n",
    "            # new sub_data should not contain the chosen attribute\n",
    "            sub_data.append(sample[:attr_num] + sample[attr_num+1:])\n",
    "    return sub_data"
   ]
  },
  {
   "cell_type": "markdown",
   "metadata": {},
   "source": [
    "## 2.6 getMajority(Data)\n",
    "\n",
    "When we reach a leaf, this function is necessary to vote for the major label.\n",
    "\n",
    "Note: When there're more than a single major label..."
   ]
  },
  {
   "cell_type": "markdown",
   "metadata": {},
   "source": [
    "**Function: getMajority(Data)**\n",
    "\n",
    "**parameters:**\n",
    "- Data: 2-d matrix, Current data set.\n",
    "\n",
    "**return:**\n",
    "- The major label."
   ]
  },
  {
   "cell_type": "code",
   "execution_count": 23,
   "metadata": {},
   "outputs": [],
   "source": [
    "def getMajority(Data):\n",
    "    # Labels were stored at tail of the data set.\n",
    "    labels = [sample[-1] for sample in Data]\n",
    "    # Use set() to remove duplicates\n",
    "    types = list(set(labels))\n",
    "    # Counts each type.\n",
    "    types_counts = [labels.count(type) for type in types]\n",
    "    # Enumerate to find major label\n",
    "    major = 0\n",
    "    max_count = 0\n",
    "    for idx, type_count in enumerate(types_counts):\n",
    "        major = types[idx] if max_count < type_count else major\n",
    "        max_count = type_count if max_count < type_count else max_count\n",
    "    # Return the type which counts most.\n",
    "    return str(major)"
   ]
  },
  {
   "cell_type": "markdown",
   "metadata": {},
   "source": [
    "---\n",
    "\n",
    "\n",
    "# 3 Generate Decision Tree\n",
    "\n",
    "[TOP](#E11-Decision-Tree)"
   ]
  },
  {
   "cell_type": "markdown",
   "metadata": {},
   "source": [
    "**Function: GenerateTree(Data， Attrset, method='ID3')**\n",
    "\n",
    "**parameters:**\n",
    "- Data: 2-d matrix, Current data set.\n",
    "- Attrset: list[attr_tuple], Current attributes set.\n",
    "- method: str, The Method used to build the decision tree.\n",
    "\n",
    "**return:**\n",
    "- Root of the Decision Tree."
   ]
  },
  {
   "cell_type": "code",
   "execution_count": 24,
   "metadata": {},
   "outputs": [],
   "source": [
    "def GenerateTree(Data, Attrset, method='ID3'):\n",
    "    # Labels were stored at tail of the data set.\n",
    "    labels = [sample[-1] for sample in Data]\n",
    "    \n",
    "    # ================ Terminals Check ================= \n",
    "    # The following IF sentences will\n",
    "    # determine if the node if a leaf.\n",
    "    \n",
    "    # 1# ALL the SAME labels\n",
    "    if len(set(labels)) == 1:\n",
    "        # LEAF node | value = any one of the same labels\n",
    "        return str(labels[0])\n",
    "    \n",
    "    # 2# No Attributes left\n",
    "    if len(Attrset) == 0:\n",
    "        # LEAF node | value = the major label\n",
    "        return getMajority(Data)\n",
    "\n",
    "    # 3# Samples behave the same on Attrset\n",
    "    flag = False\n",
    "    for attr_tuple in Attrset:\n",
    "        if len(set([sample[attr_tuple[0]] for sample in Data])) != 1:\n",
    "            flag = True\n",
    "            break\n",
    "    if not flag:\n",
    "        return getMajority(Data)\n",
    "    \n",
    "    # ============== Terminals Check Ends ===============\n",
    "    \n",
    "    # Choose the best attribute to split the data set by\n",
    "    best_attr = chooseBestAttr(Data, Attrset, method)\n",
    "    attr_num = best_attr[0]\n",
    "    attr_vals = best_attr[1]\n",
    "    attr_name = best_attr[2]\n",
    "    for idx, attr in enumerate(Attrset):\n",
    "        if attr[0] > attr_num:\n",
    "            Attrset[idx] = (attr[0]-1, attr[1], attr[2])\n",
    "    del(Attrset[Attrset.index(best_attr)])\n",
    "    # Initialzation\n",
    "    # Current Node is named with attr_num;\n",
    "    # The empty dict., as its child,\n",
    "    # will be fill in following steps.\n",
    "    Node = {attr_name: {}}\n",
    "    \n",
    "    # Enumerate values of the best attributes\n",
    "    for val in attr_vals:\n",
    "        sub_data = splitData(Data, attr_num, val)\n",
    "        if len(sub_data) == 0:\n",
    "            return getMajority(Data)\n",
    "        else:\n",
    "            Node[attr_name][val] = GenerateTree(sub_data, Attrset[:], method)\n",
    "            \n",
    "    # Return the Node as the result\n",
    "    return Node"
   ]
  },
  {
   "cell_type": "markdown",
   "metadata": {},
   "source": [
    "---\n",
    "\n",
    "# 4 Classifier \n",
    "\n",
    "[TOP](#E11-Decision-Tree)\n",
    "\n",
    "Use the Tree Generator above to create a classifier."
   ]
  },
  {
   "cell_type": "markdown",
   "metadata": {},
   "source": [
    "## 4.1 Classifier(DecisionTree, AttrSet, SampleData)"
   ]
  },
  {
   "cell_type": "markdown",
   "metadata": {},
   "source": [
    "**Function: Classifier(DecisionTree, AttrSet, SampleData)**\n",
    "\n",
    "**parameters:**\n",
    "- DecisionTree: Dict, a decision tree.\n",
    "- AttrSet: list[attr_tuple], Attributes set for Data.\n",
    "- SampleData: SampleData to classify.\n",
    "\n",
    "**return:**\n",
    "- Classification Result."
   ]
  },
  {
   "cell_type": "code",
   "execution_count": 25,
   "metadata": {},
   "outputs": [],
   "source": [
    "def Classifier(DecisionTree, AttrSet, SampleData):\n",
    "    root = list(DecisionTree.keys())[0]\n",
    "    for attr_tuple in AttrSet:\n",
    "        if root == attr_tuple[2]:\n",
    "            key = SampleData[attr_tuple[0]]\n",
    "    succ = DecisionTree[root][key]\n",
    "    if isinstance(succ, dict):\n",
    "        return Classifier(succ, AttrSet, SampleData)\n",
    "    else:\n",
    "        return succ"
   ]
  },
  {
   "cell_type": "markdown",
   "metadata": {},
   "source": [
    "## 4.2 Benchmarker(DecisionTree,  AttrSet, testing_data, log)"
   ]
  },
  {
   "cell_type": "markdown",
   "metadata": {},
   "source": [
    "**Function: Benchmarker(DecisionTree, AttrSet, testing_data, log=False)**\n",
    "\n",
    "**parameters:**\n",
    "- DecisionTree: Dict, a decision tree.\n",
    "- AttrSet: list[attr_tuple], Attributes set for Data.\n",
    "- testing_data: 2-d matrix, testing data to evaluate the model.\n",
    "- log: boolean, true to print out the process.\n",
    "\n",
    "**return:**\n",
    "- Accuracy on the testing_data."
   ]
  },
  {
   "cell_type": "code",
   "execution_count": 26,
   "metadata": {},
   "outputs": [],
   "source": [
    "def Benchmarker(DecisionTree, AttrSet, testing_data, log=False):\n",
    "    labels = [sample[-1] for sample in testing_data]\n",
    "    res = []\n",
    "    for sample in testing_data:\n",
    "        res.append(Classifier(DecisionTree, AttrSet, sample[:-1]))\n",
    "    check = [labels[idx] + int(res[idx]) for idx in range(len(testing_data))]\n",
    "    if log:\n",
    "        for idx in range(len(testing_data)):\n",
    "            if idx % 1000 == 0:\n",
    "                print(\" T \", end='') if labels[idx] == int(res[idx]) else print(\" F \", end='')\n",
    "                print('%5d: expected %d, classified to %d.' % (idx, labels[idx], int(res[idx])))\n",
    "        print(\"Total Accuracy: %.5f\" % (1-check.count(1)/len(testing_data)))\n",
    "    else:\n",
    "        return 1 - check.count(1)/len(testing_data)"
   ]
  },
  {
   "cell_type": "markdown",
   "metadata": {},
   "source": [
    "## 4.3 Benchmarking and plotting"
   ]
  },
  {
   "cell_type": "code",
   "execution_count": 27,
   "metadata": {},
   "outputs": [
    {
     "ename": "ModuleNotFoundError",
     "evalue": "No module named 'treePlotter'",
     "output_type": "error",
     "traceback": [
      "\u001b[1;31m---------------------------------------------------------------------------\u001b[0m",
      "\u001b[1;31mModuleNotFoundError\u001b[0m                       Traceback (most recent call last)",
      "\u001b[1;32m<ipython-input-27-c55e2077330b>\u001b[0m in \u001b[0;36m<module>\u001b[1;34m\u001b[0m\n\u001b[1;32m----> 1\u001b[1;33m \u001b[1;32mimport\u001b[0m \u001b[0mtreePlotter\u001b[0m \u001b[1;32mas\u001b[0m \u001b[0mtp\u001b[0m\u001b[1;33m\u001b[0m\u001b[1;33m\u001b[0m\u001b[0m\n\u001b[0m\u001b[0;32m      2\u001b[0m testing_data = [\n\u001b[0;32m      3\u001b[0m     \u001b[1;33m[\u001b[0m\u001b[1;36m0\u001b[0m\u001b[1;33m,\u001b[0m\u001b[1;36m1\u001b[0m\u001b[1;33m,\u001b[0m\u001b[1;36m1\u001b[0m\u001b[1;33m,\u001b[0m\u001b[1;36m1\u001b[0m\u001b[1;33m]\u001b[0m\u001b[1;33m,\u001b[0m\u001b[1;33m\u001b[0m\u001b[1;33m\u001b[0m\u001b[0m\n\u001b[0;32m      4\u001b[0m     \u001b[1;33m[\u001b[0m\u001b[1;36m1\u001b[0m\u001b[1;33m,\u001b[0m\u001b[1;36m3\u001b[0m\u001b[1;33m,\u001b[0m\u001b[1;36m5\u001b[0m\u001b[1;33m,\u001b[0m\u001b[1;36m1\u001b[0m\u001b[1;33m]\u001b[0m\u001b[1;33m,\u001b[0m\u001b[1;33m\u001b[0m\u001b[1;33m\u001b[0m\u001b[0m\n\u001b[0;32m      5\u001b[0m     \u001b[1;33m[\u001b[0m\u001b[1;36m3\u001b[0m\u001b[1;33m,\u001b[0m\u001b[1;36m3\u001b[0m\u001b[1;33m,\u001b[0m\u001b[1;36m3\u001b[0m\u001b[1;33m,\u001b[0m\u001b[1;36m1\u001b[0m\u001b[1;33m]\u001b[0m\u001b[1;33m,\u001b[0m\u001b[1;33m\u001b[0m\u001b[1;33m\u001b[0m\u001b[0m\n",
      "\u001b[1;31mModuleNotFoundError\u001b[0m: No module named 'treePlotter'"
     ]
    }
   ],
   "source": [
    "import treePlotter as tp\n",
    "testing_data = [\n",
    "    [0,1,1,1],\n",
    "    [1,3,5,1],\n",
    "    [3,3,3,1],\n",
    "    [3,2,2,1],\n",
    "    [2,1,6,1],\n",
    "    [0,3,3,1],\n",
    "    [1,2,4,1],\n",
    "    [1,2,2,1],\n",
    "    \n",
    "    [0,1,6,0],\n",
    "    [1,3,4,0],\n",
    "    [1,3,3,0],\n",
    "    [0,2,3,0],\n",
    "    [2,2,2,0],\n",
    "    [0,0,1,0],\n",
    "    [1,2,3,0],\n",
    "    [1,1,0,0],\n",
    "    [1,0,0,1]\n",
    "]\n",
    "\n",
    "testing_attrset = [(0, [0,1,2,3],'2nd'), (1, [0,1,2,3],'3rd'), (2, [0,1,2,3,4,5,6], '4th')]\n",
    "\n",
    "print('\\n'+\"*\"*10+' Testing with ID3 '+\"*\"*10)\n",
    "dt = GenerateTree(testing_data, testing_attrset[:])\n",
    "tp.createPlot(dt)\n",
    "Benchmarker(dt, testing_attrset, testing_data, True)\n",
    "\n",
    "print('\\n'+\"*\"*10+' Testing with CART '+\"*\"*10)\n",
    "dt = GenerateTree(testing_data, testing_attrset[:], 'CART')\n",
    "tp.createPlot(dt)\n",
    "Benchmarker(dt, testing_attrset, testing_data, True)"
   ]
  },
  {
   "cell_type": "markdown",
   "metadata": {},
   "source": [
    "---\n",
    "\n",
    "\n",
    "# 5 Feed with 'Salary Data' and Model Storage \n",
    "\n",
    "[TOP](#E11-Decision-Tree)\n",
    "\n",
    "After benchmarking and debugging, I will feed the decision tree with the data generated in Section 1.\n",
    "\n",
    "And for reusage, store it."
   ]
  },
  {
   "cell_type": "markdown",
   "metadata": {},
   "source": [
    "## Review On the data"
   ]
  },
  {
   "cell_type": "code",
   "execution_count": 30,
   "metadata": {},
   "outputs": [
    {
     "name": "stdout",
     "output_type": "stream",
     "text": [
      "Training Inputs: [[1, 5, 0, 0, 2, 2, 8, 3, 0, 1, 2, 0, 0, 0], [2, 1, 0, 0, 2, 0, 4, 2, 0, 1, 0, 0, 0, 0]]\n",
      "Training Labels: [0, 0]\n",
      "Combined Training data: [[1, 5, 0, 0, 2, 2, 8, 3, 0, 1, 2, 0, 0, 0, 0], [2, 1, 0, 0, 2, 0, 4, 2, 0, 1, 0, 0, 0, 0, 0]] \n",
      "\n",
      "Testing Inputs: [[2, 0, 2, 2, 0, 2, 7, 1, 4, 1, 0, 0, 0, 0], [2, 0, 0, 3, 0, 0, 9, 2, 0, 1, 0, 0, 2, 0]]\n",
      "Testing Labels: [0, 0]\n",
      "Combined Testing data: [[2, 0, 2, 2, 0, 2, 7, 1, 4, 1, 0, 0, 0, 0, 0], [2, 0, 0, 3, 0, 0, 9, 2, 0, 1, 0, 0, 2, 0, 0]] \n",
      "\n",
      "Attribute Set:[index, domain, name]\n"
     ]
    },
    {
     "data": {
      "text/plain": [
       "[(0, [0, 1, 2], 'age'),\n",
       " (1, [0, 1, 2, 3, 4, 5, 6, 7], 'workclass'),\n",
       " (2, [0, 1, 2], 'fnlwgt'),\n",
       " (3, [0, 1, 2, 3, 4, 5, 6, 7, 8, 9, 10, 11, 12, 13, 14, 15], 'education'),\n",
       " (4, [0, 1, 2], 'education-num')]"
      ]
     },
     "metadata": {},
     "output_type": "display_data"
    }
   ],
   "source": [
    "# training data\n",
    "print(\"Training Inputs:\", train_input[:2])\n",
    "print(\"Training Labels:\", train_label[:2])\n",
    "# combined\n",
    "X_train = [data + [train_label[idx]] for idx, data in enumerate(train_input)]\n",
    "print(\"Combined Training data:\", X_train[:2], '\\n')\n",
    "\n",
    "# testing data\n",
    "print(\"Testing Inputs:\", test_input[:2])\n",
    "print(\"Testing Labels:\", test_label[:2])\n",
    "# combined\n",
    "X_test = [data + [test_label[idx]] for idx, data in enumerate(test_input)]\n",
    "print(\"Combined Testing data:\", X_test[:2], '\\n')\n",
    "\n",
    "# Attribute Set\n",
    "print(\"Attribute Set:[index, domain, name]\")\n",
    "display(AttrSet[:5])"
   ]
  },
  {
   "cell_type": "markdown",
   "metadata": {},
   "source": [
    "## 5.1 Training on ID3 (Argmax on Gain_info)"
   ]
  },
  {
   "cell_type": "code",
   "execution_count": null,
   "metadata": {},
   "outputs": [],
   "source": [
    "print('\\n'+\"*\"*10+' Salary Data with ID3 '+\"*\"*10)\n",
    "SalaryPredict_DT_ID3 = GenerateTree(X_train, AttrSet[:])\n",
    "plt.subplots(figsize=(14,12))\n",
    "tp.createPlot(SalaryPredict_DT_ID3)\n",
    "Benchmarker(SalaryPredict_DT_ID3, AttrSet, X_train, True)"
   ]
  },
  {
   "cell_type": "markdown",
   "metadata": {},
   "source": [
    "## 5.2 Training on CART (Argmin on Gini_index)"
   ]
  },
  {
   "cell_type": "code",
   "execution_count": null,
   "metadata": {},
   "outputs": [],
   "source": [
    "print('\\n'+\"*\"*10+' Salary Data with CART '+\"*\"*10)\n",
    "SalaryPredict_DT_CART = GenerateTree(X_train, AttrSet[:], 'CART')\n",
    "plt.subplots(figsize=(14,12))\n",
    "tp.createPlot(SalaryPredict_DT_CART)\n",
    "Benchmarker(SalaryPredict_DT_CART, AttrSet, X_train, True)"
   ]
  },
  {
   "cell_type": "markdown",
   "metadata": {},
   "source": [
    "In this case, ID3 doesn't distinguish from CART much,\n",
    "\n",
    "the only difference between there Accuracy on Training set is:\n",
    "\n",
    "$0.82181(CART) - 0.82178(ID3) < 0.001$"
   ]
  },
  {
   "cell_type": "markdown",
   "metadata": {},
   "source": [
    "## 5.3 Behavior on testing set\n",
    "\n",
    "I have no confidence on the model actually..."
   ]
  },
  {
   "cell_type": "code",
   "execution_count": null,
   "metadata": {},
   "outputs": [],
   "source": [
    "print('\\n'+\"*\"*10+' Testing Salary Data with ID3 '+\"*\"*10)\n",
    "Benchmarker(SalaryPredict_DT_ID3, AttrSet, X_test, True)"
   ]
  },
  {
   "cell_type": "code",
   "execution_count": null,
   "metadata": {},
   "outputs": [],
   "source": [
    "print('\\n'+\"*\"*10+' Testing Salary Data with CART '+\"*\"*10)\n",
    "Benchmarker(SalaryPredict_DT_CART, AttrSet, X_test, True)"
   ]
  },
  {
   "cell_type": "markdown",
   "metadata": {},
   "source": [
    "As you can see, ID3 and CART behave the same and reach an Accuracy of 82%.\n",
    "\n",
    "It's Okay for me XD."
   ]
  },
  {
   "cell_type": "markdown",
   "metadata": {},
   "source": [
    "## 5.4 Save the Decision Tree\n",
    "\n",
    "For Your convinience, I serialize the model into two files:\n",
    "\n",
    "`'SalaryPredict_DT_ID3.pkl'` and `'SalaryPredict_DT_CART.pkl'`"
   ]
  },
  {
   "cell_type": "code",
   "execution_count": null,
   "metadata": {},
   "outputs": [],
   "source": [
    "import pickle as pk\n",
    "with open('./DTmodel/SalaryPredict_DT_ID3.pkl', 'wb') as pkl:\n",
    "    pk.dump(SalaryPredict_DT_ID3, pkl)\n",
    "\n",
    "with open('./DTmodel/SalaryPredict_DT_CART.pkl', 'wb') as pkl:\n",
    "    pk.dump(SalaryPredict_DT_CART, pkl)"
   ]
  },
  {
   "cell_type": "markdown",
   "metadata": {},
   "source": [
    "Please Load it with python module `pickle` as follow:"
   ]
  },
  {
   "cell_type": "code",
   "execution_count": 31,
   "metadata": {},
   "outputs": [
    {
     "name": "stdout",
     "output_type": "stream",
     "text": [
      "\n",
      "********** Testing Salary Data with ID3 **********\n",
      " T     0: expected 0, classified to 0.\n",
      " T  1000: expected 0, classified to 0.\n",
      " T  2000: expected 0, classified to 0.\n",
      " T  3000: expected 0, classified to 0.\n",
      " T  4000: expected 0, classified to 0.\n",
      " T  5000: expected 1, classified to 1.\n",
      " T  6000: expected 0, classified to 0.\n",
      " T  7000: expected 0, classified to 0.\n",
      " T  8000: expected 0, classified to 0.\n",
      " T  9000: expected 0, classified to 0.\n",
      " F 10000: expected 1, classified to 0.\n",
      " F 11000: expected 0, classified to 1.\n",
      " F 12000: expected 1, classified to 0.\n",
      " T 13000: expected 1, classified to 1.\n",
      " F 14000: expected 1, classified to 0.\n",
      " F 15000: expected 1, classified to 0.\n",
      " F 16000: expected 1, classified to 0.\n",
      "Total Accuracy: 0.82212\n"
     ]
    }
   ],
   "source": [
    "import pickle as pk\n",
    "with open('./DTmodel/SalaryPredict_DT_ID3.pkl', 'rb') as pkl:\n",
    "    SalaryPredict_DT_ID3 = pk.load(pkl)\n",
    "\n",
    "with open('./DTmodel/SalaryPredict_DT_CART.pkl', 'rb') as pkl:\n",
    "    SalaryPredict_DT_CART = pk.load(pkl)\n",
    "\n",
    "print('\\n'+\"*\"*10+' Testing Salary Data with ID3 '+\"*\"*10)\n",
    "Benchmarker(SalaryPredict_DT_ID3, AttrSet, X_test, True)"
   ]
  },
  {
   "cell_type": "markdown",
   "metadata": {},
   "source": [
    "Great, it works.\n",
    "\n",
    "[TOP](#E11-Decision-Tree)\n",
    "\n",
    "---\n",
    "\n",
    "2019/11 Karl"
   ]
  }
 ],
 "metadata": {
  "kernelspec": {
   "display_name": "Python [conda env:root] *",
   "language": "python",
   "name": "conda-root-py"
  },
  "language_info": {
   "codemirror_mode": {
    "name": "ipython",
    "version": 3
   },
   "file_extension": ".py",
   "mimetype": "text/x-python",
   "name": "python",
   "nbconvert_exporter": "python",
   "pygments_lexer": "ipython3",
   "version": "3.7.3"
  }
 },
 "nbformat": 4,
 "nbformat_minor": 2
}
